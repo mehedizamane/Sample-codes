{
  "nbformat": 4,
  "nbformat_minor": 0,
  "metadata": {
    "colab": {
      "name": "POPANE.ipynb",
      "provenance": [],
      "collapsed_sections": [],
      "mount_file_id": "1WZHCdEILBLo7EqOPhnTIdGenY7nUrmeW",
      "authorship_tag": "ABX9TyNJHf7Ab79UW2Al+kevoBaT",
      "include_colab_link": true
    },
    "kernelspec": {
      "name": "python3",
      "display_name": "Python 3"
    },
    "language_info": {
      "name": "python"
    }
  },
  "cells": [
    {
      "cell_type": "markdown",
      "metadata": {
        "id": "view-in-github",
        "colab_type": "text"
      },
      "source": [
        "<a href=\"https://colab.research.google.com/github/mehedizamane/Sample-codes/blob/main/POPANE.ipynb\" target=\"_parent\"><img src=\"https://colab.research.google.com/assets/colab-badge.svg\" alt=\"Open In Colab\"/></a>"
      ]
    },
    {
      "cell_type": "code",
      "execution_count": null,
      "metadata": {
        "id": "vqtI3iE82M0l"
      },
      "outputs": [],
      "source": [
        "#%%                           Import Library\n",
        "import numpy as np\n",
        "import matplotlib.pyplot as plt\n",
        "import pandas as pd\n",
        "import random\n",
        "from sklearn.utils import shuffle\n",
        "from sklearn import metrics\n",
        "from sklearn.metrics import cohen_kappa_score\n",
        "\n",
        "from collections import Counter\n",
        "from matplotlib import pyplot\n",
        "from sklearn.preprocessing import LabelEncoder\n",
        "from imblearn.over_sampling import SMOTE\n",
        "from sklearn.metrics import plot_confusion_matrix\n",
        "from sklearn.metrics import accuracy_score, precision_score, recall_score, f1_score\n",
        "import seaborn as sn"
      ]
    },
    {
      "cell_type": "code",
      "source": [
        "#%% Initialization\n",
        "y_predict = [] # for multilayer\n",
        "algorithms = [\"Logistic Regression\",\"K-nn\", \"SVM\", \"Naive Bayes\", \"Decission Tree\", \"Random Forest\",\"XgBoost\", \"AdaBoost\"]\n",
        "accuracy  = []\n",
        "precision = []\n",
        "recall    = []\n",
        "f1_value  = []"
      ],
      "metadata": {
        "id": "K-fXvnWJIV_G"
      },
      "execution_count": null,
      "outputs": []
    },
    {
      "cell_type": "code",
      "source": [
        "#%%    User define function \n",
        "# print function \n",
        "def print_summary(ac,pr,re,f):\n",
        "    print(\"Accuracy    =\", ac)\n",
        "    print(\"Precision   =\", pr)\n",
        "    print(\"Recall      =\", re)\n",
        "    print(\"F1 Score    =\", f)\n",
        "    print(\"\\n\")"
      ],
      "metadata": {
        "id": "hySWgNE5IYEy"
      },
      "execution_count": null,
      "outputs": []
    },
    {
      "cell_type": "code",
      "source": [
        "# plot function\n",
        "def plott(x,y,z):\n",
        "\n",
        "    #f = plt.figure()\n",
        "    sn.set(font_scale=1)\n",
        "    plt.rcParams['figure.figsize']=20,10\n",
        "    sn.set_style(\"darkgrid\")\n",
        "    ax = sn.barplot(x, y, palette = \"rocket\", saturation =1.5)\n",
        "    plt.xlabel(\"Classifier Models\", fontsize = 20 )\n",
        "    plt.ylabel(z, fontsize = 20)\n",
        "    plt.title(z, fontsize = 20)\n",
        "    plt.xticks(fontsize = 12, horizontalalignment = 'center', rotation = 8)\n",
        "    plt.yticks(fontsize = 13)\n",
        "    for p in ax.patches:\n",
        "        width, height = p.get_width(), p.get_height()\n",
        "        x, y = p.get_xy() \n",
        "        ax.annotate(f'{height:.2%}', (x + width/2, y + height*1.02), ha='center', fontsize = 'x-large')\n",
        "    plt.show()"
      ],
      "metadata": {
        "id": "ZriGzw56IbWl"
      },
      "execution_count": null,
      "outputs": []
    },
    {
      "cell_type": "code",
      "source": [
        "# model score function \n",
        "def model_score (y_test,y_pred):\n",
        "    # Statistical Score\n",
        "    st = 'macro'  # 'micro',  'macro' , 'weighted' None\n",
        "    ac  = accuracy_score(y_test, y_pred)  # for multi class\n",
        "    pre = precision_score(y_test, y_pred, average = st) # use [accuracy_score(y_test, y_pred, average = st)]\n",
        "    re  = recall_score(y_test, y_pred, average = st)\n",
        "    f1  = f1_score(y_test, y_pred, average = st) \n",
        "    results = [ac,pre,re, f1]\n",
        "    return results"
      ],
      "metadata": {
        "id": "47WKv78ZIgCb"
      },
      "execution_count": null,
      "outputs": []
    },
    {
      "cell_type": "code",
      "source": [
        "# k fold\n",
        "def k_fold(classifer):\n",
        "    from sklearn.model_selection import cross_val_score\n",
        "    from sklearn.metrics import accuracy_score, precision_score, recall_score, f1_score\n",
        "    from sklearn import metrics\n",
        "    \n",
        "    n = 10 \n",
        "    \n",
        "    accuracy  = cross_val_score(classifer, X,y, cv =n)\n",
        "    precision = cross_val_score(classifer, X, y, cv=n, scoring='precision_macro')\n",
        "    recall = cross_val_score(classifer, X, y, cv=n, scoring='recall_macro')\n",
        "    f1 = cross_val_score(classifer, X, y, cv=n, scoring='f1_macro')\n",
        "    accuracy = accuracy.mean()\n",
        "    precision = precision.mean()\n",
        "    recall = recall.mean()\n",
        "    f1 = f1.mean()\n",
        "\n",
        "    # Plot \n",
        "    import seaborn as sns\n",
        "    yplot = [accuracy, precision, recall, f1]\n",
        "    xplot = ['accuracy', 'precision' ,'recall', 'f1 score']\n",
        "    sns.barplot(x = xplot, y= yplot)\n",
        "    plt.show()\n",
        "    \n",
        "    # Print section\n",
        "    print('Accuracy   :', accuracy)\n",
        "    print('Precision  :',precision)\n",
        "    print('Recall     :',recall)\n",
        "    print('f1 score   :',f1)\n",
        "    print('\\n')\n",
        "    \n",
        "    results = [accuracy, precision, recall, f1]\n",
        "    return results"
      ],
      "metadata": {
        "id": "5ftcJY_wIjWI"
      },
      "execution_count": null,
      "outputs": []
    },
    {
      "cell_type": "code",
      "source": [
        "dataset = pd.read_excel('/content/drive/MyDrive/POPANE/POPANE Dataset_v2.xlsx')\n",
        "print(dataset.head())\n",
        "dataset.isnull().sum()"
      ],
      "metadata": {
        "colab": {
          "base_uri": "https://localhost:8080/"
        },
        "id": "HitEDvBg69r3",
        "outputId": "e1a3c711-47bd-417f-bcd5-3dcba498f3af"
      },
      "execution_count": null,
      "outputs": [
        {
          "output_type": "stream",
          "name": "stdout",
          "text": [
            "   Maximum  Minimum  Variance  Kurtosis  Skewness  Standard deviation     EDA  \\\n",
            "0    10.02     7.57  0.178500    5.8203    1.7728            0.422500  8.1757   \n",
            "1    11.64     6.71  0.874600    4.6198    1.2011            0.935200  8.3250   \n",
            "2    10.86     6.77  1.012600    3.3128    1.1812            1.006300  8.0875   \n",
            "3     3.99     3.59  0.005902    4.9604    1.4539            0.076825  3.6810   \n",
            "4     4.39     3.79  0.007763    6.2914    1.3119            0.088109  3.9973   \n",
            "\n",
            "      SBP     DBP      CO      TPR  CLASS  \n",
            "0  112.36  71.810  6.8677  0.72183    0.0  \n",
            "1  113.00  72.157  7.0499  0.70407    0.0  \n",
            "2  116.65  72.578  7.9440  0.62912    0.0  \n",
            "3  111.86  69.234  6.0638  0.78234    0.0  \n",
            "4  114.07  71.507  6.2010  0.80362    0.0  \n"
          ]
        },
        {
          "output_type": "execute_result",
          "data": {
            "text/plain": [
              "Maximum                 0\n",
              "Minimum                 0\n",
              "Variance                0\n",
              "Kurtosis               31\n",
              "Skewness               31\n",
              "Standard deviation      0\n",
              "EDA                     0\n",
              "SBP                     0\n",
              "DBP                     0\n",
              "CO                    284\n",
              "TPR                   294\n",
              "CLASS                   0\n",
              "dtype: int64"
            ]
          },
          "metadata": {},
          "execution_count": 106
        }
      ]
    },
    {
      "cell_type": "code",
      "source": [
        "dataset[dataset.isnull().any(axis=1)]"
      ],
      "metadata": {
        "colab": {
          "base_uri": "https://localhost:8080/",
          "height": 423
        },
        "id": "Rx5Dh-zoHS4G",
        "outputId": "225b7127-88fa-4aae-84c2-d2f6f94b0d2b"
      },
      "execution_count": null,
      "outputs": [
        {
          "output_type": "execute_result",
          "data": {
            "text/plain": [
              "      Maximum  Minimum  Variance  Kurtosis  Skewness  Standard deviation  \\\n",
              "80       1.52     1.22  0.004411    4.6937  1.449700            0.066415   \n",
              "90       2.64     1.75  0.029420    9.5176  2.503300            0.171520   \n",
              "92       3.29     1.79  0.085033    9.9030  2.555800            0.291600   \n",
              "216      0.00     0.00  0.000000       NaN       NaN            0.000000   \n",
              "217      0.00     0.00  0.000000       NaN       NaN            0.000000   \n",
              "...       ...      ...       ...       ...       ...                 ...   \n",
              "2644    -0.24    -0.82  0.022759    2.5756 -0.004384            0.150860   \n",
              "2645     1.33     0.57  0.041217    2.6487 -0.132860            0.203020   \n",
              "2646     0.51     0.47  0.000150    1.7199  0.538090            0.012237   \n",
              "2647     1.94     1.21  0.042873    2.4165 -0.852750            0.207060   \n",
              "2648     9.18     5.68  0.982990    2.7856 -0.978900            0.991460   \n",
              "\n",
              "          EDA      SBP      DBP      CO     TPR  CLASS  \n",
              "80    1.30770  134.890  103.600  2.6616     NaN    0.0  \n",
              "90    1.91530  173.280  117.210  2.2541     NaN    0.0  \n",
              "92    2.02430  178.610  122.830  2.1337     NaN    0.0  \n",
              "216   0.00000  126.990   80.861  4.9846  1.0742    0.0  \n",
              "217   0.00000  128.270   81.655  5.0030  1.0795    0.0  \n",
              "...       ...      ...      ...     ...     ...    ...  \n",
              "2644 -0.56176   83.539   95.215     NaN     NaN   10.0  \n",
              "2645  0.97267  103.060  109.430     NaN     NaN   10.0  \n",
              "2646  0.49008   76.800   91.098     NaN     NaN   10.0  \n",
              "2647  1.63690   71.337   80.999     NaN     NaN   10.0  \n",
              "2648  7.96360  131.400  138.310     NaN     NaN   10.0  \n",
              "\n",
              "[323 rows x 12 columns]"
            ],
            "text/html": [
              "\n",
              "  <div id=\"df-45f89810-c508-4111-b326-eaacb5b18a82\">\n",
              "    <div class=\"colab-df-container\">\n",
              "      <div>\n",
              "<style scoped>\n",
              "    .dataframe tbody tr th:only-of-type {\n",
              "        vertical-align: middle;\n",
              "    }\n",
              "\n",
              "    .dataframe tbody tr th {\n",
              "        vertical-align: top;\n",
              "    }\n",
              "\n",
              "    .dataframe thead th {\n",
              "        text-align: right;\n",
              "    }\n",
              "</style>\n",
              "<table border=\"1\" class=\"dataframe\">\n",
              "  <thead>\n",
              "    <tr style=\"text-align: right;\">\n",
              "      <th></th>\n",
              "      <th>Maximum</th>\n",
              "      <th>Minimum</th>\n",
              "      <th>Variance</th>\n",
              "      <th>Kurtosis</th>\n",
              "      <th>Skewness</th>\n",
              "      <th>Standard deviation</th>\n",
              "      <th>EDA</th>\n",
              "      <th>SBP</th>\n",
              "      <th>DBP</th>\n",
              "      <th>CO</th>\n",
              "      <th>TPR</th>\n",
              "      <th>CLASS</th>\n",
              "    </tr>\n",
              "  </thead>\n",
              "  <tbody>\n",
              "    <tr>\n",
              "      <th>80</th>\n",
              "      <td>1.52</td>\n",
              "      <td>1.22</td>\n",
              "      <td>0.004411</td>\n",
              "      <td>4.6937</td>\n",
              "      <td>1.449700</td>\n",
              "      <td>0.066415</td>\n",
              "      <td>1.30770</td>\n",
              "      <td>134.890</td>\n",
              "      <td>103.600</td>\n",
              "      <td>2.6616</td>\n",
              "      <td>NaN</td>\n",
              "      <td>0.0</td>\n",
              "    </tr>\n",
              "    <tr>\n",
              "      <th>90</th>\n",
              "      <td>2.64</td>\n",
              "      <td>1.75</td>\n",
              "      <td>0.029420</td>\n",
              "      <td>9.5176</td>\n",
              "      <td>2.503300</td>\n",
              "      <td>0.171520</td>\n",
              "      <td>1.91530</td>\n",
              "      <td>173.280</td>\n",
              "      <td>117.210</td>\n",
              "      <td>2.2541</td>\n",
              "      <td>NaN</td>\n",
              "      <td>0.0</td>\n",
              "    </tr>\n",
              "    <tr>\n",
              "      <th>92</th>\n",
              "      <td>3.29</td>\n",
              "      <td>1.79</td>\n",
              "      <td>0.085033</td>\n",
              "      <td>9.9030</td>\n",
              "      <td>2.555800</td>\n",
              "      <td>0.291600</td>\n",
              "      <td>2.02430</td>\n",
              "      <td>178.610</td>\n",
              "      <td>122.830</td>\n",
              "      <td>2.1337</td>\n",
              "      <td>NaN</td>\n",
              "      <td>0.0</td>\n",
              "    </tr>\n",
              "    <tr>\n",
              "      <th>216</th>\n",
              "      <td>0.00</td>\n",
              "      <td>0.00</td>\n",
              "      <td>0.000000</td>\n",
              "      <td>NaN</td>\n",
              "      <td>NaN</td>\n",
              "      <td>0.000000</td>\n",
              "      <td>0.00000</td>\n",
              "      <td>126.990</td>\n",
              "      <td>80.861</td>\n",
              "      <td>4.9846</td>\n",
              "      <td>1.0742</td>\n",
              "      <td>0.0</td>\n",
              "    </tr>\n",
              "    <tr>\n",
              "      <th>217</th>\n",
              "      <td>0.00</td>\n",
              "      <td>0.00</td>\n",
              "      <td>0.000000</td>\n",
              "      <td>NaN</td>\n",
              "      <td>NaN</td>\n",
              "      <td>0.000000</td>\n",
              "      <td>0.00000</td>\n",
              "      <td>128.270</td>\n",
              "      <td>81.655</td>\n",
              "      <td>5.0030</td>\n",
              "      <td>1.0795</td>\n",
              "      <td>0.0</td>\n",
              "    </tr>\n",
              "    <tr>\n",
              "      <th>...</th>\n",
              "      <td>...</td>\n",
              "      <td>...</td>\n",
              "      <td>...</td>\n",
              "      <td>...</td>\n",
              "      <td>...</td>\n",
              "      <td>...</td>\n",
              "      <td>...</td>\n",
              "      <td>...</td>\n",
              "      <td>...</td>\n",
              "      <td>...</td>\n",
              "      <td>...</td>\n",
              "      <td>...</td>\n",
              "    </tr>\n",
              "    <tr>\n",
              "      <th>2644</th>\n",
              "      <td>-0.24</td>\n",
              "      <td>-0.82</td>\n",
              "      <td>0.022759</td>\n",
              "      <td>2.5756</td>\n",
              "      <td>-0.004384</td>\n",
              "      <td>0.150860</td>\n",
              "      <td>-0.56176</td>\n",
              "      <td>83.539</td>\n",
              "      <td>95.215</td>\n",
              "      <td>NaN</td>\n",
              "      <td>NaN</td>\n",
              "      <td>10.0</td>\n",
              "    </tr>\n",
              "    <tr>\n",
              "      <th>2645</th>\n",
              "      <td>1.33</td>\n",
              "      <td>0.57</td>\n",
              "      <td>0.041217</td>\n",
              "      <td>2.6487</td>\n",
              "      <td>-0.132860</td>\n",
              "      <td>0.203020</td>\n",
              "      <td>0.97267</td>\n",
              "      <td>103.060</td>\n",
              "      <td>109.430</td>\n",
              "      <td>NaN</td>\n",
              "      <td>NaN</td>\n",
              "      <td>10.0</td>\n",
              "    </tr>\n",
              "    <tr>\n",
              "      <th>2646</th>\n",
              "      <td>0.51</td>\n",
              "      <td>0.47</td>\n",
              "      <td>0.000150</td>\n",
              "      <td>1.7199</td>\n",
              "      <td>0.538090</td>\n",
              "      <td>0.012237</td>\n",
              "      <td>0.49008</td>\n",
              "      <td>76.800</td>\n",
              "      <td>91.098</td>\n",
              "      <td>NaN</td>\n",
              "      <td>NaN</td>\n",
              "      <td>10.0</td>\n",
              "    </tr>\n",
              "    <tr>\n",
              "      <th>2647</th>\n",
              "      <td>1.94</td>\n",
              "      <td>1.21</td>\n",
              "      <td>0.042873</td>\n",
              "      <td>2.4165</td>\n",
              "      <td>-0.852750</td>\n",
              "      <td>0.207060</td>\n",
              "      <td>1.63690</td>\n",
              "      <td>71.337</td>\n",
              "      <td>80.999</td>\n",
              "      <td>NaN</td>\n",
              "      <td>NaN</td>\n",
              "      <td>10.0</td>\n",
              "    </tr>\n",
              "    <tr>\n",
              "      <th>2648</th>\n",
              "      <td>9.18</td>\n",
              "      <td>5.68</td>\n",
              "      <td>0.982990</td>\n",
              "      <td>2.7856</td>\n",
              "      <td>-0.978900</td>\n",
              "      <td>0.991460</td>\n",
              "      <td>7.96360</td>\n",
              "      <td>131.400</td>\n",
              "      <td>138.310</td>\n",
              "      <td>NaN</td>\n",
              "      <td>NaN</td>\n",
              "      <td>10.0</td>\n",
              "    </tr>\n",
              "  </tbody>\n",
              "</table>\n",
              "<p>323 rows × 12 columns</p>\n",
              "</div>\n",
              "      <button class=\"colab-df-convert\" onclick=\"convertToInteractive('df-45f89810-c508-4111-b326-eaacb5b18a82')\"\n",
              "              title=\"Convert this dataframe to an interactive table.\"\n",
              "              style=\"display:none;\">\n",
              "        \n",
              "  <svg xmlns=\"http://www.w3.org/2000/svg\" height=\"24px\"viewBox=\"0 0 24 24\"\n",
              "       width=\"24px\">\n",
              "    <path d=\"M0 0h24v24H0V0z\" fill=\"none\"/>\n",
              "    <path d=\"M18.56 5.44l.94 2.06.94-2.06 2.06-.94-2.06-.94-.94-2.06-.94 2.06-2.06.94zm-11 1L8.5 8.5l.94-2.06 2.06-.94-2.06-.94L8.5 2.5l-.94 2.06-2.06.94zm10 10l.94 2.06.94-2.06 2.06-.94-2.06-.94-.94-2.06-.94 2.06-2.06.94z\"/><path d=\"M17.41 7.96l-1.37-1.37c-.4-.4-.92-.59-1.43-.59-.52 0-1.04.2-1.43.59L10.3 9.45l-7.72 7.72c-.78.78-.78 2.05 0 2.83L4 21.41c.39.39.9.59 1.41.59.51 0 1.02-.2 1.41-.59l7.78-7.78 2.81-2.81c.8-.78.8-2.07 0-2.86zM5.41 20L4 18.59l7.72-7.72 1.47 1.35L5.41 20z\"/>\n",
              "  </svg>\n",
              "      </button>\n",
              "      \n",
              "  <style>\n",
              "    .colab-df-container {\n",
              "      display:flex;\n",
              "      flex-wrap:wrap;\n",
              "      gap: 12px;\n",
              "    }\n",
              "\n",
              "    .colab-df-convert {\n",
              "      background-color: #E8F0FE;\n",
              "      border: none;\n",
              "      border-radius: 50%;\n",
              "      cursor: pointer;\n",
              "      display: none;\n",
              "      fill: #1967D2;\n",
              "      height: 32px;\n",
              "      padding: 0 0 0 0;\n",
              "      width: 32px;\n",
              "    }\n",
              "\n",
              "    .colab-df-convert:hover {\n",
              "      background-color: #E2EBFA;\n",
              "      box-shadow: 0px 1px 2px rgba(60, 64, 67, 0.3), 0px 1px 3px 1px rgba(60, 64, 67, 0.15);\n",
              "      fill: #174EA6;\n",
              "    }\n",
              "\n",
              "    [theme=dark] .colab-df-convert {\n",
              "      background-color: #3B4455;\n",
              "      fill: #D2E3FC;\n",
              "    }\n",
              "\n",
              "    [theme=dark] .colab-df-convert:hover {\n",
              "      background-color: #434B5C;\n",
              "      box-shadow: 0px 1px 3px 1px rgba(0, 0, 0, 0.15);\n",
              "      filter: drop-shadow(0px 1px 2px rgba(0, 0, 0, 0.3));\n",
              "      fill: #FFFFFF;\n",
              "    }\n",
              "  </style>\n",
              "\n",
              "      <script>\n",
              "        const buttonEl =\n",
              "          document.querySelector('#df-45f89810-c508-4111-b326-eaacb5b18a82 button.colab-df-convert');\n",
              "        buttonEl.style.display =\n",
              "          google.colab.kernel.accessAllowed ? 'block' : 'none';\n",
              "\n",
              "        async function convertToInteractive(key) {\n",
              "          const element = document.querySelector('#df-45f89810-c508-4111-b326-eaacb5b18a82');\n",
              "          const dataTable =\n",
              "            await google.colab.kernel.invokeFunction('convertToInteractive',\n",
              "                                                     [key], {});\n",
              "          if (!dataTable) return;\n",
              "\n",
              "          const docLinkHtml = 'Like what you see? Visit the ' +\n",
              "            '<a target=\"_blank\" href=https://colab.research.google.com/notebooks/data_table.ipynb>data table notebook</a>'\n",
              "            + ' to learn more about interactive tables.';\n",
              "          element.innerHTML = '';\n",
              "          dataTable['output_type'] = 'display_data';\n",
              "          await google.colab.output.renderOutput(dataTable, element);\n",
              "          const docLink = document.createElement('div');\n",
              "          docLink.innerHTML = docLinkHtml;\n",
              "          element.appendChild(docLink);\n",
              "        }\n",
              "      </script>\n",
              "    </div>\n",
              "  </div>\n",
              "  "
            ]
          },
          "metadata": {},
          "execution_count": 107
        }
      ]
    },
    {
      "cell_type": "code",
      "source": [
        ""
      ],
      "metadata": {
        "id": "SnxpbOTvKeYS"
      },
      "execution_count": null,
      "outputs": []
    },
    {
      "cell_type": "code",
      "source": [
        "# Drop rows containing NaN values\n",
        "dataset=dataset.dropna()\n",
        "#Confirm there are now no nulls\n",
        "dataset.isnull().sum()"
      ],
      "metadata": {
        "colab": {
          "base_uri": "https://localhost:8080/"
        },
        "id": "conxqOFxHV4I",
        "outputId": "33e5e87f-e7c9-4d3f-ef3a-6135f0f6279f"
      },
      "execution_count": null,
      "outputs": [
        {
          "output_type": "execute_result",
          "data": {
            "text/plain": [
              "Maximum               0\n",
              "Minimum               0\n",
              "Variance              0\n",
              "Kurtosis              0\n",
              "Skewness              0\n",
              "Standard deviation    0\n",
              "EDA                   0\n",
              "SBP                   0\n",
              "DBP                   0\n",
              "CO                    0\n",
              "TPR                   0\n",
              "CLASS                 0\n",
              "dtype: int64"
            ]
          },
          "metadata": {},
          "execution_count": 108
        }
      ]
    },
    {
      "cell_type": "code",
      "source": [
        "dataset.dtypes"
      ],
      "metadata": {
        "colab": {
          "base_uri": "https://localhost:8080/"
        },
        "id": "85ZQ9YHkHndT",
        "outputId": "bedc625e-5bc6-40e2-81e7-58c4ddc8e8f4"
      },
      "execution_count": null,
      "outputs": [
        {
          "output_type": "execute_result",
          "data": {
            "text/plain": [
              "Maximum               float64\n",
              "Minimum               float64\n",
              "Variance              float64\n",
              "Kurtosis              float64\n",
              "Skewness              float64\n",
              "Standard deviation    float64\n",
              "EDA                   float64\n",
              "SBP                   float64\n",
              "DBP                   float64\n",
              "CO                    float64\n",
              "TPR                   float64\n",
              "CLASS                 float64\n",
              "dtype: object"
            ]
          },
          "metadata": {},
          "execution_count": 68
        }
      ]
    },
    {
      "cell_type": "code",
      "source": [
        "dataset"
      ],
      "metadata": {
        "colab": {
          "base_uri": "https://localhost:8080/",
          "height": 423
        },
        "id": "5VSXPD9lLRVW",
        "outputId": "4abb7a45-003a-4f18-e32b-828f5eb031d6"
      },
      "execution_count": null,
      "outputs": [
        {
          "output_type": "execute_result",
          "data": {
            "text/plain": [
              "      Maximum  Minimum      Variance  Kurtosis  Skewness  Standard deviation  \\\n",
              "0      10.020    7.570  1.785000e-01    5.8203  1.772800            0.422500   \n",
              "1      11.640    6.710  8.746000e-01    4.6198  1.201100            0.935200   \n",
              "2      10.860    6.770  1.012600e+00    3.3128  1.181200            1.006300   \n",
              "3       3.990    3.590  5.902000e-03    4.9604  1.453900            0.076825   \n",
              "4       4.390    3.790  7.763200e-03    6.2914  1.311900            0.088109   \n",
              "...       ...      ...           ...       ...       ...                 ...   \n",
              "2738    0.135    0.072  9.050000e-05    7.9046 -1.449700            0.009513   \n",
              "2739    0.063    0.037  2.300000e-05    5.6171 -1.410600            0.004798   \n",
              "2740    0.248   -0.010  1.207900e-03    5.6711 -0.050357            0.034754   \n",
              "2741    0.104    0.032  2.031100e-04    5.2242 -1.285400            0.014252   \n",
              "2742   -0.017   -0.021  6.150000e-07    2.3446 -0.099038            0.000784   \n",
              "\n",
              "           EDA     SBP     DBP      CO      TPR  CLASS  \n",
              "0     8.175700  112.36  71.810  6.8677  0.72183    0.0  \n",
              "1     8.325000  113.00  72.157  7.0499  0.70407    0.0  \n",
              "2     8.087500  116.65  72.578  7.9440  0.62912    0.0  \n",
              "3     3.681000  111.86  69.234  6.0638  0.78234    0.0  \n",
              "4     3.997300  114.07  71.507  6.2010  0.80362    0.0  \n",
              "...        ...     ...     ...     ...      ...    ...  \n",
              "2738  0.112070  128.46  97.760  7.1262  0.88580   10.0  \n",
              "2739  0.054599  137.69  81.628  9.7676  0.57426   10.0  \n",
              "2740  0.127280  130.19  92.284  8.4719  0.62482   10.0  \n",
              "2741  0.079203  126.27  70.653  3.9879  1.15220   10.0  \n",
              "2742 -0.018858  123.96  77.982  4.7134  0.94163   10.0  \n",
              "\n",
              "[2420 rows x 12 columns]"
            ],
            "text/html": [
              "\n",
              "  <div id=\"df-9dc430a5-c716-4a76-96ff-98a45dd2b092\">\n",
              "    <div class=\"colab-df-container\">\n",
              "      <div>\n",
              "<style scoped>\n",
              "    .dataframe tbody tr th:only-of-type {\n",
              "        vertical-align: middle;\n",
              "    }\n",
              "\n",
              "    .dataframe tbody tr th {\n",
              "        vertical-align: top;\n",
              "    }\n",
              "\n",
              "    .dataframe thead th {\n",
              "        text-align: right;\n",
              "    }\n",
              "</style>\n",
              "<table border=\"1\" class=\"dataframe\">\n",
              "  <thead>\n",
              "    <tr style=\"text-align: right;\">\n",
              "      <th></th>\n",
              "      <th>Maximum</th>\n",
              "      <th>Minimum</th>\n",
              "      <th>Variance</th>\n",
              "      <th>Kurtosis</th>\n",
              "      <th>Skewness</th>\n",
              "      <th>Standard deviation</th>\n",
              "      <th>EDA</th>\n",
              "      <th>SBP</th>\n",
              "      <th>DBP</th>\n",
              "      <th>CO</th>\n",
              "      <th>TPR</th>\n",
              "      <th>CLASS</th>\n",
              "    </tr>\n",
              "  </thead>\n",
              "  <tbody>\n",
              "    <tr>\n",
              "      <th>0</th>\n",
              "      <td>10.020</td>\n",
              "      <td>7.570</td>\n",
              "      <td>1.785000e-01</td>\n",
              "      <td>5.8203</td>\n",
              "      <td>1.772800</td>\n",
              "      <td>0.422500</td>\n",
              "      <td>8.175700</td>\n",
              "      <td>112.36</td>\n",
              "      <td>71.810</td>\n",
              "      <td>6.8677</td>\n",
              "      <td>0.72183</td>\n",
              "      <td>0.0</td>\n",
              "    </tr>\n",
              "    <tr>\n",
              "      <th>1</th>\n",
              "      <td>11.640</td>\n",
              "      <td>6.710</td>\n",
              "      <td>8.746000e-01</td>\n",
              "      <td>4.6198</td>\n",
              "      <td>1.201100</td>\n",
              "      <td>0.935200</td>\n",
              "      <td>8.325000</td>\n",
              "      <td>113.00</td>\n",
              "      <td>72.157</td>\n",
              "      <td>7.0499</td>\n",
              "      <td>0.70407</td>\n",
              "      <td>0.0</td>\n",
              "    </tr>\n",
              "    <tr>\n",
              "      <th>2</th>\n",
              "      <td>10.860</td>\n",
              "      <td>6.770</td>\n",
              "      <td>1.012600e+00</td>\n",
              "      <td>3.3128</td>\n",
              "      <td>1.181200</td>\n",
              "      <td>1.006300</td>\n",
              "      <td>8.087500</td>\n",
              "      <td>116.65</td>\n",
              "      <td>72.578</td>\n",
              "      <td>7.9440</td>\n",
              "      <td>0.62912</td>\n",
              "      <td>0.0</td>\n",
              "    </tr>\n",
              "    <tr>\n",
              "      <th>3</th>\n",
              "      <td>3.990</td>\n",
              "      <td>3.590</td>\n",
              "      <td>5.902000e-03</td>\n",
              "      <td>4.9604</td>\n",
              "      <td>1.453900</td>\n",
              "      <td>0.076825</td>\n",
              "      <td>3.681000</td>\n",
              "      <td>111.86</td>\n",
              "      <td>69.234</td>\n",
              "      <td>6.0638</td>\n",
              "      <td>0.78234</td>\n",
              "      <td>0.0</td>\n",
              "    </tr>\n",
              "    <tr>\n",
              "      <th>4</th>\n",
              "      <td>4.390</td>\n",
              "      <td>3.790</td>\n",
              "      <td>7.763200e-03</td>\n",
              "      <td>6.2914</td>\n",
              "      <td>1.311900</td>\n",
              "      <td>0.088109</td>\n",
              "      <td>3.997300</td>\n",
              "      <td>114.07</td>\n",
              "      <td>71.507</td>\n",
              "      <td>6.2010</td>\n",
              "      <td>0.80362</td>\n",
              "      <td>0.0</td>\n",
              "    </tr>\n",
              "    <tr>\n",
              "      <th>...</th>\n",
              "      <td>...</td>\n",
              "      <td>...</td>\n",
              "      <td>...</td>\n",
              "      <td>...</td>\n",
              "      <td>...</td>\n",
              "      <td>...</td>\n",
              "      <td>...</td>\n",
              "      <td>...</td>\n",
              "      <td>...</td>\n",
              "      <td>...</td>\n",
              "      <td>...</td>\n",
              "      <td>...</td>\n",
              "    </tr>\n",
              "    <tr>\n",
              "      <th>2738</th>\n",
              "      <td>0.135</td>\n",
              "      <td>0.072</td>\n",
              "      <td>9.050000e-05</td>\n",
              "      <td>7.9046</td>\n",
              "      <td>-1.449700</td>\n",
              "      <td>0.009513</td>\n",
              "      <td>0.112070</td>\n",
              "      <td>128.46</td>\n",
              "      <td>97.760</td>\n",
              "      <td>7.1262</td>\n",
              "      <td>0.88580</td>\n",
              "      <td>10.0</td>\n",
              "    </tr>\n",
              "    <tr>\n",
              "      <th>2739</th>\n",
              "      <td>0.063</td>\n",
              "      <td>0.037</td>\n",
              "      <td>2.300000e-05</td>\n",
              "      <td>5.6171</td>\n",
              "      <td>-1.410600</td>\n",
              "      <td>0.004798</td>\n",
              "      <td>0.054599</td>\n",
              "      <td>137.69</td>\n",
              "      <td>81.628</td>\n",
              "      <td>9.7676</td>\n",
              "      <td>0.57426</td>\n",
              "      <td>10.0</td>\n",
              "    </tr>\n",
              "    <tr>\n",
              "      <th>2740</th>\n",
              "      <td>0.248</td>\n",
              "      <td>-0.010</td>\n",
              "      <td>1.207900e-03</td>\n",
              "      <td>5.6711</td>\n",
              "      <td>-0.050357</td>\n",
              "      <td>0.034754</td>\n",
              "      <td>0.127280</td>\n",
              "      <td>130.19</td>\n",
              "      <td>92.284</td>\n",
              "      <td>8.4719</td>\n",
              "      <td>0.62482</td>\n",
              "      <td>10.0</td>\n",
              "    </tr>\n",
              "    <tr>\n",
              "      <th>2741</th>\n",
              "      <td>0.104</td>\n",
              "      <td>0.032</td>\n",
              "      <td>2.031100e-04</td>\n",
              "      <td>5.2242</td>\n",
              "      <td>-1.285400</td>\n",
              "      <td>0.014252</td>\n",
              "      <td>0.079203</td>\n",
              "      <td>126.27</td>\n",
              "      <td>70.653</td>\n",
              "      <td>3.9879</td>\n",
              "      <td>1.15220</td>\n",
              "      <td>10.0</td>\n",
              "    </tr>\n",
              "    <tr>\n",
              "      <th>2742</th>\n",
              "      <td>-0.017</td>\n",
              "      <td>-0.021</td>\n",
              "      <td>6.150000e-07</td>\n",
              "      <td>2.3446</td>\n",
              "      <td>-0.099038</td>\n",
              "      <td>0.000784</td>\n",
              "      <td>-0.018858</td>\n",
              "      <td>123.96</td>\n",
              "      <td>77.982</td>\n",
              "      <td>4.7134</td>\n",
              "      <td>0.94163</td>\n",
              "      <td>10.0</td>\n",
              "    </tr>\n",
              "  </tbody>\n",
              "</table>\n",
              "<p>2420 rows × 12 columns</p>\n",
              "</div>\n",
              "      <button class=\"colab-df-convert\" onclick=\"convertToInteractive('df-9dc430a5-c716-4a76-96ff-98a45dd2b092')\"\n",
              "              title=\"Convert this dataframe to an interactive table.\"\n",
              "              style=\"display:none;\">\n",
              "        \n",
              "  <svg xmlns=\"http://www.w3.org/2000/svg\" height=\"24px\"viewBox=\"0 0 24 24\"\n",
              "       width=\"24px\">\n",
              "    <path d=\"M0 0h24v24H0V0z\" fill=\"none\"/>\n",
              "    <path d=\"M18.56 5.44l.94 2.06.94-2.06 2.06-.94-2.06-.94-.94-2.06-.94 2.06-2.06.94zm-11 1L8.5 8.5l.94-2.06 2.06-.94-2.06-.94L8.5 2.5l-.94 2.06-2.06.94zm10 10l.94 2.06.94-2.06 2.06-.94-2.06-.94-.94-2.06-.94 2.06-2.06.94z\"/><path d=\"M17.41 7.96l-1.37-1.37c-.4-.4-.92-.59-1.43-.59-.52 0-1.04.2-1.43.59L10.3 9.45l-7.72 7.72c-.78.78-.78 2.05 0 2.83L4 21.41c.39.39.9.59 1.41.59.51 0 1.02-.2 1.41-.59l7.78-7.78 2.81-2.81c.8-.78.8-2.07 0-2.86zM5.41 20L4 18.59l7.72-7.72 1.47 1.35L5.41 20z\"/>\n",
              "  </svg>\n",
              "      </button>\n",
              "      \n",
              "  <style>\n",
              "    .colab-df-container {\n",
              "      display:flex;\n",
              "      flex-wrap:wrap;\n",
              "      gap: 12px;\n",
              "    }\n",
              "\n",
              "    .colab-df-convert {\n",
              "      background-color: #E8F0FE;\n",
              "      border: none;\n",
              "      border-radius: 50%;\n",
              "      cursor: pointer;\n",
              "      display: none;\n",
              "      fill: #1967D2;\n",
              "      height: 32px;\n",
              "      padding: 0 0 0 0;\n",
              "      width: 32px;\n",
              "    }\n",
              "\n",
              "    .colab-df-convert:hover {\n",
              "      background-color: #E2EBFA;\n",
              "      box-shadow: 0px 1px 2px rgba(60, 64, 67, 0.3), 0px 1px 3px 1px rgba(60, 64, 67, 0.15);\n",
              "      fill: #174EA6;\n",
              "    }\n",
              "\n",
              "    [theme=dark] .colab-df-convert {\n",
              "      background-color: #3B4455;\n",
              "      fill: #D2E3FC;\n",
              "    }\n",
              "\n",
              "    [theme=dark] .colab-df-convert:hover {\n",
              "      background-color: #434B5C;\n",
              "      box-shadow: 0px 1px 3px 1px rgba(0, 0, 0, 0.15);\n",
              "      filter: drop-shadow(0px 1px 2px rgba(0, 0, 0, 0.3));\n",
              "      fill: #FFFFFF;\n",
              "    }\n",
              "  </style>\n",
              "\n",
              "      <script>\n",
              "        const buttonEl =\n",
              "          document.querySelector('#df-9dc430a5-c716-4a76-96ff-98a45dd2b092 button.colab-df-convert');\n",
              "        buttonEl.style.display =\n",
              "          google.colab.kernel.accessAllowed ? 'block' : 'none';\n",
              "\n",
              "        async function convertToInteractive(key) {\n",
              "          const element = document.querySelector('#df-9dc430a5-c716-4a76-96ff-98a45dd2b092');\n",
              "          const dataTable =\n",
              "            await google.colab.kernel.invokeFunction('convertToInteractive',\n",
              "                                                     [key], {});\n",
              "          if (!dataTable) return;\n",
              "\n",
              "          const docLinkHtml = 'Like what you see? Visit the ' +\n",
              "            '<a target=\"_blank\" href=https://colab.research.google.com/notebooks/data_table.ipynb>data table notebook</a>'\n",
              "            + ' to learn more about interactive tables.';\n",
              "          element.innerHTML = '';\n",
              "          dataTable['output_type'] = 'display_data';\n",
              "          await google.colab.output.renderOutput(dataTable, element);\n",
              "          const docLink = document.createElement('div');\n",
              "          docLink.innerHTML = docLinkHtml;\n",
              "          element.appendChild(docLink);\n",
              "        }\n",
              "      </script>\n",
              "    </div>\n",
              "  </div>\n",
              "  "
            ]
          },
          "metadata": {},
          "execution_count": 69
        }
      ]
    },
    {
      "cell_type": "code",
      "source": [
        "dataset['CLASS'] = dataset['CLASS'].astype(int)"
      ],
      "metadata": {
        "id": "35QZtaINHojH"
      },
      "execution_count": null,
      "outputs": []
    },
    {
      "cell_type": "code",
      "source": [
        "dataset.dtypes"
      ],
      "metadata": {
        "colab": {
          "base_uri": "https://localhost:8080/"
        },
        "id": "dE6calwjI3Zz",
        "outputId": "8a60bf26-ddd9-4684-95b6-8d8555f24dd8"
      },
      "execution_count": null,
      "outputs": [
        {
          "output_type": "execute_result",
          "data": {
            "text/plain": [
              "Maximum               float64\n",
              "Minimum               float64\n",
              "Variance              float64\n",
              "Kurtosis              float64\n",
              "Skewness              float64\n",
              "Standard deviation    float64\n",
              "EDA                   float64\n",
              "SBP                   float64\n",
              "DBP                   float64\n",
              "CO                    float64\n",
              "TPR                   float64\n",
              "CLASS                   int64\n",
              "dtype: object"
            ]
          },
          "metadata": {},
          "execution_count": 71
        }
      ]
    },
    {
      "cell_type": "code",
      "source": [
        "dataset"
      ],
      "metadata": {
        "colab": {
          "base_uri": "https://localhost:8080/",
          "height": 423
        },
        "id": "VkHcf1RbI31_",
        "outputId": "68e5769a-ee60-4ab0-9919-d4babb3ee2b1"
      },
      "execution_count": null,
      "outputs": [
        {
          "output_type": "execute_result",
          "data": {
            "text/plain": [
              "      Maximum  Minimum      Variance  Kurtosis  Skewness  Standard deviation  \\\n",
              "0      10.020    7.570  1.785000e-01    5.8203  1.772800            0.422500   \n",
              "1      11.640    6.710  8.746000e-01    4.6198  1.201100            0.935200   \n",
              "2      10.860    6.770  1.012600e+00    3.3128  1.181200            1.006300   \n",
              "3       3.990    3.590  5.902000e-03    4.9604  1.453900            0.076825   \n",
              "4       4.390    3.790  7.763200e-03    6.2914  1.311900            0.088109   \n",
              "...       ...      ...           ...       ...       ...                 ...   \n",
              "2738    0.135    0.072  9.050000e-05    7.9046 -1.449700            0.009513   \n",
              "2739    0.063    0.037  2.300000e-05    5.6171 -1.410600            0.004798   \n",
              "2740    0.248   -0.010  1.207900e-03    5.6711 -0.050357            0.034754   \n",
              "2741    0.104    0.032  2.031100e-04    5.2242 -1.285400            0.014252   \n",
              "2742   -0.017   -0.021  6.150000e-07    2.3446 -0.099038            0.000784   \n",
              "\n",
              "           EDA     SBP     DBP      CO      TPR  CLASS  \n",
              "0     8.175700  112.36  71.810  6.8677  0.72183      0  \n",
              "1     8.325000  113.00  72.157  7.0499  0.70407      0  \n",
              "2     8.087500  116.65  72.578  7.9440  0.62912      0  \n",
              "3     3.681000  111.86  69.234  6.0638  0.78234      0  \n",
              "4     3.997300  114.07  71.507  6.2010  0.80362      0  \n",
              "...        ...     ...     ...     ...      ...    ...  \n",
              "2738  0.112070  128.46  97.760  7.1262  0.88580     10  \n",
              "2739  0.054599  137.69  81.628  9.7676  0.57426     10  \n",
              "2740  0.127280  130.19  92.284  8.4719  0.62482     10  \n",
              "2741  0.079203  126.27  70.653  3.9879  1.15220     10  \n",
              "2742 -0.018858  123.96  77.982  4.7134  0.94163     10  \n",
              "\n",
              "[2420 rows x 12 columns]"
            ],
            "text/html": [
              "\n",
              "  <div id=\"df-31fab9bc-8315-4dad-a26a-30d8f904c60b\">\n",
              "    <div class=\"colab-df-container\">\n",
              "      <div>\n",
              "<style scoped>\n",
              "    .dataframe tbody tr th:only-of-type {\n",
              "        vertical-align: middle;\n",
              "    }\n",
              "\n",
              "    .dataframe tbody tr th {\n",
              "        vertical-align: top;\n",
              "    }\n",
              "\n",
              "    .dataframe thead th {\n",
              "        text-align: right;\n",
              "    }\n",
              "</style>\n",
              "<table border=\"1\" class=\"dataframe\">\n",
              "  <thead>\n",
              "    <tr style=\"text-align: right;\">\n",
              "      <th></th>\n",
              "      <th>Maximum</th>\n",
              "      <th>Minimum</th>\n",
              "      <th>Variance</th>\n",
              "      <th>Kurtosis</th>\n",
              "      <th>Skewness</th>\n",
              "      <th>Standard deviation</th>\n",
              "      <th>EDA</th>\n",
              "      <th>SBP</th>\n",
              "      <th>DBP</th>\n",
              "      <th>CO</th>\n",
              "      <th>TPR</th>\n",
              "      <th>CLASS</th>\n",
              "    </tr>\n",
              "  </thead>\n",
              "  <tbody>\n",
              "    <tr>\n",
              "      <th>0</th>\n",
              "      <td>10.020</td>\n",
              "      <td>7.570</td>\n",
              "      <td>1.785000e-01</td>\n",
              "      <td>5.8203</td>\n",
              "      <td>1.772800</td>\n",
              "      <td>0.422500</td>\n",
              "      <td>8.175700</td>\n",
              "      <td>112.36</td>\n",
              "      <td>71.810</td>\n",
              "      <td>6.8677</td>\n",
              "      <td>0.72183</td>\n",
              "      <td>0</td>\n",
              "    </tr>\n",
              "    <tr>\n",
              "      <th>1</th>\n",
              "      <td>11.640</td>\n",
              "      <td>6.710</td>\n",
              "      <td>8.746000e-01</td>\n",
              "      <td>4.6198</td>\n",
              "      <td>1.201100</td>\n",
              "      <td>0.935200</td>\n",
              "      <td>8.325000</td>\n",
              "      <td>113.00</td>\n",
              "      <td>72.157</td>\n",
              "      <td>7.0499</td>\n",
              "      <td>0.70407</td>\n",
              "      <td>0</td>\n",
              "    </tr>\n",
              "    <tr>\n",
              "      <th>2</th>\n",
              "      <td>10.860</td>\n",
              "      <td>6.770</td>\n",
              "      <td>1.012600e+00</td>\n",
              "      <td>3.3128</td>\n",
              "      <td>1.181200</td>\n",
              "      <td>1.006300</td>\n",
              "      <td>8.087500</td>\n",
              "      <td>116.65</td>\n",
              "      <td>72.578</td>\n",
              "      <td>7.9440</td>\n",
              "      <td>0.62912</td>\n",
              "      <td>0</td>\n",
              "    </tr>\n",
              "    <tr>\n",
              "      <th>3</th>\n",
              "      <td>3.990</td>\n",
              "      <td>3.590</td>\n",
              "      <td>5.902000e-03</td>\n",
              "      <td>4.9604</td>\n",
              "      <td>1.453900</td>\n",
              "      <td>0.076825</td>\n",
              "      <td>3.681000</td>\n",
              "      <td>111.86</td>\n",
              "      <td>69.234</td>\n",
              "      <td>6.0638</td>\n",
              "      <td>0.78234</td>\n",
              "      <td>0</td>\n",
              "    </tr>\n",
              "    <tr>\n",
              "      <th>4</th>\n",
              "      <td>4.390</td>\n",
              "      <td>3.790</td>\n",
              "      <td>7.763200e-03</td>\n",
              "      <td>6.2914</td>\n",
              "      <td>1.311900</td>\n",
              "      <td>0.088109</td>\n",
              "      <td>3.997300</td>\n",
              "      <td>114.07</td>\n",
              "      <td>71.507</td>\n",
              "      <td>6.2010</td>\n",
              "      <td>0.80362</td>\n",
              "      <td>0</td>\n",
              "    </tr>\n",
              "    <tr>\n",
              "      <th>...</th>\n",
              "      <td>...</td>\n",
              "      <td>...</td>\n",
              "      <td>...</td>\n",
              "      <td>...</td>\n",
              "      <td>...</td>\n",
              "      <td>...</td>\n",
              "      <td>...</td>\n",
              "      <td>...</td>\n",
              "      <td>...</td>\n",
              "      <td>...</td>\n",
              "      <td>...</td>\n",
              "      <td>...</td>\n",
              "    </tr>\n",
              "    <tr>\n",
              "      <th>2738</th>\n",
              "      <td>0.135</td>\n",
              "      <td>0.072</td>\n",
              "      <td>9.050000e-05</td>\n",
              "      <td>7.9046</td>\n",
              "      <td>-1.449700</td>\n",
              "      <td>0.009513</td>\n",
              "      <td>0.112070</td>\n",
              "      <td>128.46</td>\n",
              "      <td>97.760</td>\n",
              "      <td>7.1262</td>\n",
              "      <td>0.88580</td>\n",
              "      <td>10</td>\n",
              "    </tr>\n",
              "    <tr>\n",
              "      <th>2739</th>\n",
              "      <td>0.063</td>\n",
              "      <td>0.037</td>\n",
              "      <td>2.300000e-05</td>\n",
              "      <td>5.6171</td>\n",
              "      <td>-1.410600</td>\n",
              "      <td>0.004798</td>\n",
              "      <td>0.054599</td>\n",
              "      <td>137.69</td>\n",
              "      <td>81.628</td>\n",
              "      <td>9.7676</td>\n",
              "      <td>0.57426</td>\n",
              "      <td>10</td>\n",
              "    </tr>\n",
              "    <tr>\n",
              "      <th>2740</th>\n",
              "      <td>0.248</td>\n",
              "      <td>-0.010</td>\n",
              "      <td>1.207900e-03</td>\n",
              "      <td>5.6711</td>\n",
              "      <td>-0.050357</td>\n",
              "      <td>0.034754</td>\n",
              "      <td>0.127280</td>\n",
              "      <td>130.19</td>\n",
              "      <td>92.284</td>\n",
              "      <td>8.4719</td>\n",
              "      <td>0.62482</td>\n",
              "      <td>10</td>\n",
              "    </tr>\n",
              "    <tr>\n",
              "      <th>2741</th>\n",
              "      <td>0.104</td>\n",
              "      <td>0.032</td>\n",
              "      <td>2.031100e-04</td>\n",
              "      <td>5.2242</td>\n",
              "      <td>-1.285400</td>\n",
              "      <td>0.014252</td>\n",
              "      <td>0.079203</td>\n",
              "      <td>126.27</td>\n",
              "      <td>70.653</td>\n",
              "      <td>3.9879</td>\n",
              "      <td>1.15220</td>\n",
              "      <td>10</td>\n",
              "    </tr>\n",
              "    <tr>\n",
              "      <th>2742</th>\n",
              "      <td>-0.017</td>\n",
              "      <td>-0.021</td>\n",
              "      <td>6.150000e-07</td>\n",
              "      <td>2.3446</td>\n",
              "      <td>-0.099038</td>\n",
              "      <td>0.000784</td>\n",
              "      <td>-0.018858</td>\n",
              "      <td>123.96</td>\n",
              "      <td>77.982</td>\n",
              "      <td>4.7134</td>\n",
              "      <td>0.94163</td>\n",
              "      <td>10</td>\n",
              "    </tr>\n",
              "  </tbody>\n",
              "</table>\n",
              "<p>2420 rows × 12 columns</p>\n",
              "</div>\n",
              "      <button class=\"colab-df-convert\" onclick=\"convertToInteractive('df-31fab9bc-8315-4dad-a26a-30d8f904c60b')\"\n",
              "              title=\"Convert this dataframe to an interactive table.\"\n",
              "              style=\"display:none;\">\n",
              "        \n",
              "  <svg xmlns=\"http://www.w3.org/2000/svg\" height=\"24px\"viewBox=\"0 0 24 24\"\n",
              "       width=\"24px\">\n",
              "    <path d=\"M0 0h24v24H0V0z\" fill=\"none\"/>\n",
              "    <path d=\"M18.56 5.44l.94 2.06.94-2.06 2.06-.94-2.06-.94-.94-2.06-.94 2.06-2.06.94zm-11 1L8.5 8.5l.94-2.06 2.06-.94-2.06-.94L8.5 2.5l-.94 2.06-2.06.94zm10 10l.94 2.06.94-2.06 2.06-.94-2.06-.94-.94-2.06-.94 2.06-2.06.94z\"/><path d=\"M17.41 7.96l-1.37-1.37c-.4-.4-.92-.59-1.43-.59-.52 0-1.04.2-1.43.59L10.3 9.45l-7.72 7.72c-.78.78-.78 2.05 0 2.83L4 21.41c.39.39.9.59 1.41.59.51 0 1.02-.2 1.41-.59l7.78-7.78 2.81-2.81c.8-.78.8-2.07 0-2.86zM5.41 20L4 18.59l7.72-7.72 1.47 1.35L5.41 20z\"/>\n",
              "  </svg>\n",
              "      </button>\n",
              "      \n",
              "  <style>\n",
              "    .colab-df-container {\n",
              "      display:flex;\n",
              "      flex-wrap:wrap;\n",
              "      gap: 12px;\n",
              "    }\n",
              "\n",
              "    .colab-df-convert {\n",
              "      background-color: #E8F0FE;\n",
              "      border: none;\n",
              "      border-radius: 50%;\n",
              "      cursor: pointer;\n",
              "      display: none;\n",
              "      fill: #1967D2;\n",
              "      height: 32px;\n",
              "      padding: 0 0 0 0;\n",
              "      width: 32px;\n",
              "    }\n",
              "\n",
              "    .colab-df-convert:hover {\n",
              "      background-color: #E2EBFA;\n",
              "      box-shadow: 0px 1px 2px rgba(60, 64, 67, 0.3), 0px 1px 3px 1px rgba(60, 64, 67, 0.15);\n",
              "      fill: #174EA6;\n",
              "    }\n",
              "\n",
              "    [theme=dark] .colab-df-convert {\n",
              "      background-color: #3B4455;\n",
              "      fill: #D2E3FC;\n",
              "    }\n",
              "\n",
              "    [theme=dark] .colab-df-convert:hover {\n",
              "      background-color: #434B5C;\n",
              "      box-shadow: 0px 1px 3px 1px rgba(0, 0, 0, 0.15);\n",
              "      filter: drop-shadow(0px 1px 2px rgba(0, 0, 0, 0.3));\n",
              "      fill: #FFFFFF;\n",
              "    }\n",
              "  </style>\n",
              "\n",
              "      <script>\n",
              "        const buttonEl =\n",
              "          document.querySelector('#df-31fab9bc-8315-4dad-a26a-30d8f904c60b button.colab-df-convert');\n",
              "        buttonEl.style.display =\n",
              "          google.colab.kernel.accessAllowed ? 'block' : 'none';\n",
              "\n",
              "        async function convertToInteractive(key) {\n",
              "          const element = document.querySelector('#df-31fab9bc-8315-4dad-a26a-30d8f904c60b');\n",
              "          const dataTable =\n",
              "            await google.colab.kernel.invokeFunction('convertToInteractive',\n",
              "                                                     [key], {});\n",
              "          if (!dataTable) return;\n",
              "\n",
              "          const docLinkHtml = 'Like what you see? Visit the ' +\n",
              "            '<a target=\"_blank\" href=https://colab.research.google.com/notebooks/data_table.ipynb>data table notebook</a>'\n",
              "            + ' to learn more about interactive tables.';\n",
              "          element.innerHTML = '';\n",
              "          dataTable['output_type'] = 'display_data';\n",
              "          await google.colab.output.renderOutput(dataTable, element);\n",
              "          const docLink = document.createElement('div');\n",
              "          docLink.innerHTML = docLinkHtml;\n",
              "          element.appendChild(docLink);\n",
              "        }\n",
              "      </script>\n",
              "    </div>\n",
              "  </div>\n",
              "  "
            ]
          },
          "metadata": {},
          "execution_count": 72
        }
      ]
    },
    {
      "cell_type": "code",
      "source": [
        "dataset = shuffle(dataset)"
      ],
      "metadata": {
        "id": "iz3td1wyI51G"
      },
      "execution_count": null,
      "outputs": []
    },
    {
      "cell_type": "code",
      "source": [
        "dataset.head()"
      ],
      "metadata": {
        "colab": {
          "base_uri": "https://localhost:8080/",
          "height": 206
        },
        "id": "rnEKAvftJpO4",
        "outputId": "8585e55e-33ce-4833-8dc9-a98f02fe744d"
      },
      "execution_count": null,
      "outputs": [
        {
          "output_type": "execute_result",
          "data": {
            "text/plain": [
              "      Maximum  Minimum  Variance  Kurtosis  Skewness  Standard deviation  \\\n",
              "817      6.48     5.64  0.061124    2.5641   0.86731            0.247230   \n",
              "1069     5.15     2.90  0.243640    5.1807   1.72390            0.493600   \n",
              "1580     4.65     4.33  0.009792    1.7583  -0.29437            0.098954   \n",
              "573      2.07     1.46  0.012581    6.1922   1.50410            0.112160   \n",
              "1717     3.43     2.70  0.028615    2.7796  -0.68146            0.169160   \n",
              "\n",
              "         EDA     SBP     DBP       CO      TPR  CLASS  \n",
              "817   5.9104    0.00   0.000   0.0000  0.00000      1  \n",
              "1069  3.3650    0.00   0.000   0.0000  0.00000      3  \n",
              "1580  4.5102    0.00   0.000   0.0000  0.00000      5  \n",
              "573   1.6171  110.12  72.237   6.2001  0.80189      1  \n",
              "1717  3.1655  162.09  83.849  10.7200  0.62184      5  "
            ],
            "text/html": [
              "\n",
              "  <div id=\"df-744fa97a-32e7-4959-8e0c-97d2f61a96cf\">\n",
              "    <div class=\"colab-df-container\">\n",
              "      <div>\n",
              "<style scoped>\n",
              "    .dataframe tbody tr th:only-of-type {\n",
              "        vertical-align: middle;\n",
              "    }\n",
              "\n",
              "    .dataframe tbody tr th {\n",
              "        vertical-align: top;\n",
              "    }\n",
              "\n",
              "    .dataframe thead th {\n",
              "        text-align: right;\n",
              "    }\n",
              "</style>\n",
              "<table border=\"1\" class=\"dataframe\">\n",
              "  <thead>\n",
              "    <tr style=\"text-align: right;\">\n",
              "      <th></th>\n",
              "      <th>Maximum</th>\n",
              "      <th>Minimum</th>\n",
              "      <th>Variance</th>\n",
              "      <th>Kurtosis</th>\n",
              "      <th>Skewness</th>\n",
              "      <th>Standard deviation</th>\n",
              "      <th>EDA</th>\n",
              "      <th>SBP</th>\n",
              "      <th>DBP</th>\n",
              "      <th>CO</th>\n",
              "      <th>TPR</th>\n",
              "      <th>CLASS</th>\n",
              "    </tr>\n",
              "  </thead>\n",
              "  <tbody>\n",
              "    <tr>\n",
              "      <th>817</th>\n",
              "      <td>6.48</td>\n",
              "      <td>5.64</td>\n",
              "      <td>0.061124</td>\n",
              "      <td>2.5641</td>\n",
              "      <td>0.86731</td>\n",
              "      <td>0.247230</td>\n",
              "      <td>5.9104</td>\n",
              "      <td>0.00</td>\n",
              "      <td>0.000</td>\n",
              "      <td>0.0000</td>\n",
              "      <td>0.00000</td>\n",
              "      <td>1</td>\n",
              "    </tr>\n",
              "    <tr>\n",
              "      <th>1069</th>\n",
              "      <td>5.15</td>\n",
              "      <td>2.90</td>\n",
              "      <td>0.243640</td>\n",
              "      <td>5.1807</td>\n",
              "      <td>1.72390</td>\n",
              "      <td>0.493600</td>\n",
              "      <td>3.3650</td>\n",
              "      <td>0.00</td>\n",
              "      <td>0.000</td>\n",
              "      <td>0.0000</td>\n",
              "      <td>0.00000</td>\n",
              "      <td>3</td>\n",
              "    </tr>\n",
              "    <tr>\n",
              "      <th>1580</th>\n",
              "      <td>4.65</td>\n",
              "      <td>4.33</td>\n",
              "      <td>0.009792</td>\n",
              "      <td>1.7583</td>\n",
              "      <td>-0.29437</td>\n",
              "      <td>0.098954</td>\n",
              "      <td>4.5102</td>\n",
              "      <td>0.00</td>\n",
              "      <td>0.000</td>\n",
              "      <td>0.0000</td>\n",
              "      <td>0.00000</td>\n",
              "      <td>5</td>\n",
              "    </tr>\n",
              "    <tr>\n",
              "      <th>573</th>\n",
              "      <td>2.07</td>\n",
              "      <td>1.46</td>\n",
              "      <td>0.012581</td>\n",
              "      <td>6.1922</td>\n",
              "      <td>1.50410</td>\n",
              "      <td>0.112160</td>\n",
              "      <td>1.6171</td>\n",
              "      <td>110.12</td>\n",
              "      <td>72.237</td>\n",
              "      <td>6.2001</td>\n",
              "      <td>0.80189</td>\n",
              "      <td>1</td>\n",
              "    </tr>\n",
              "    <tr>\n",
              "      <th>1717</th>\n",
              "      <td>3.43</td>\n",
              "      <td>2.70</td>\n",
              "      <td>0.028615</td>\n",
              "      <td>2.7796</td>\n",
              "      <td>-0.68146</td>\n",
              "      <td>0.169160</td>\n",
              "      <td>3.1655</td>\n",
              "      <td>162.09</td>\n",
              "      <td>83.849</td>\n",
              "      <td>10.7200</td>\n",
              "      <td>0.62184</td>\n",
              "      <td>5</td>\n",
              "    </tr>\n",
              "  </tbody>\n",
              "</table>\n",
              "</div>\n",
              "      <button class=\"colab-df-convert\" onclick=\"convertToInteractive('df-744fa97a-32e7-4959-8e0c-97d2f61a96cf')\"\n",
              "              title=\"Convert this dataframe to an interactive table.\"\n",
              "              style=\"display:none;\">\n",
              "        \n",
              "  <svg xmlns=\"http://www.w3.org/2000/svg\" height=\"24px\"viewBox=\"0 0 24 24\"\n",
              "       width=\"24px\">\n",
              "    <path d=\"M0 0h24v24H0V0z\" fill=\"none\"/>\n",
              "    <path d=\"M18.56 5.44l.94 2.06.94-2.06 2.06-.94-2.06-.94-.94-2.06-.94 2.06-2.06.94zm-11 1L8.5 8.5l.94-2.06 2.06-.94-2.06-.94L8.5 2.5l-.94 2.06-2.06.94zm10 10l.94 2.06.94-2.06 2.06-.94-2.06-.94-.94-2.06-.94 2.06-2.06.94z\"/><path d=\"M17.41 7.96l-1.37-1.37c-.4-.4-.92-.59-1.43-.59-.52 0-1.04.2-1.43.59L10.3 9.45l-7.72 7.72c-.78.78-.78 2.05 0 2.83L4 21.41c.39.39.9.59 1.41.59.51 0 1.02-.2 1.41-.59l7.78-7.78 2.81-2.81c.8-.78.8-2.07 0-2.86zM5.41 20L4 18.59l7.72-7.72 1.47 1.35L5.41 20z\"/>\n",
              "  </svg>\n",
              "      </button>\n",
              "      \n",
              "  <style>\n",
              "    .colab-df-container {\n",
              "      display:flex;\n",
              "      flex-wrap:wrap;\n",
              "      gap: 12px;\n",
              "    }\n",
              "\n",
              "    .colab-df-convert {\n",
              "      background-color: #E8F0FE;\n",
              "      border: none;\n",
              "      border-radius: 50%;\n",
              "      cursor: pointer;\n",
              "      display: none;\n",
              "      fill: #1967D2;\n",
              "      height: 32px;\n",
              "      padding: 0 0 0 0;\n",
              "      width: 32px;\n",
              "    }\n",
              "\n",
              "    .colab-df-convert:hover {\n",
              "      background-color: #E2EBFA;\n",
              "      box-shadow: 0px 1px 2px rgba(60, 64, 67, 0.3), 0px 1px 3px 1px rgba(60, 64, 67, 0.15);\n",
              "      fill: #174EA6;\n",
              "    }\n",
              "\n",
              "    [theme=dark] .colab-df-convert {\n",
              "      background-color: #3B4455;\n",
              "      fill: #D2E3FC;\n",
              "    }\n",
              "\n",
              "    [theme=dark] .colab-df-convert:hover {\n",
              "      background-color: #434B5C;\n",
              "      box-shadow: 0px 1px 3px 1px rgba(0, 0, 0, 0.15);\n",
              "      filter: drop-shadow(0px 1px 2px rgba(0, 0, 0, 0.3));\n",
              "      fill: #FFFFFF;\n",
              "    }\n",
              "  </style>\n",
              "\n",
              "      <script>\n",
              "        const buttonEl =\n",
              "          document.querySelector('#df-744fa97a-32e7-4959-8e0c-97d2f61a96cf button.colab-df-convert');\n",
              "        buttonEl.style.display =\n",
              "          google.colab.kernel.accessAllowed ? 'block' : 'none';\n",
              "\n",
              "        async function convertToInteractive(key) {\n",
              "          const element = document.querySelector('#df-744fa97a-32e7-4959-8e0c-97d2f61a96cf');\n",
              "          const dataTable =\n",
              "            await google.colab.kernel.invokeFunction('convertToInteractive',\n",
              "                                                     [key], {});\n",
              "          if (!dataTable) return;\n",
              "\n",
              "          const docLinkHtml = 'Like what you see? Visit the ' +\n",
              "            '<a target=\"_blank\" href=https://colab.research.google.com/notebooks/data_table.ipynb>data table notebook</a>'\n",
              "            + ' to learn more about interactive tables.';\n",
              "          element.innerHTML = '';\n",
              "          dataTable['output_type'] = 'display_data';\n",
              "          await google.colab.output.renderOutput(dataTable, element);\n",
              "          const docLink = document.createElement('div');\n",
              "          docLink.innerHTML = docLinkHtml;\n",
              "          element.appendChild(docLink);\n",
              "        }\n",
              "      </script>\n",
              "    </div>\n",
              "  </div>\n",
              "  "
            ]
          },
          "metadata": {},
          "execution_count": 74
        }
      ]
    },
    {
      "cell_type": "code",
      "source": [
        "dataset.reset_index(drop=True, inplace=True)"
      ],
      "metadata": {
        "id": "u02zuJ5hJqjO"
      },
      "execution_count": null,
      "outputs": []
    },
    {
      "cell_type": "code",
      "source": [
        "dataset.head()"
      ],
      "metadata": {
        "id": "gE0u-oo-KqHn",
        "colab": {
          "base_uri": "https://localhost:8080/",
          "height": 206
        },
        "outputId": "95fac89e-6101-4ef7-d929-f5efa7274afc"
      },
      "execution_count": null,
      "outputs": [
        {
          "output_type": "execute_result",
          "data": {
            "text/plain": [
              "   Maximum  Minimum  Variance  Kurtosis  Skewness  Standard deviation     EDA  \\\n",
              "0     6.48     5.64  0.061124    2.5641   0.86731            0.247230  5.9104   \n",
              "1     5.15     2.90  0.243640    5.1807   1.72390            0.493600  3.3650   \n",
              "2     4.65     4.33  0.009792    1.7583  -0.29437            0.098954  4.5102   \n",
              "3     2.07     1.46  0.012581    6.1922   1.50410            0.112160  1.6171   \n",
              "4     3.43     2.70  0.028615    2.7796  -0.68146            0.169160  3.1655   \n",
              "\n",
              "      SBP     DBP       CO      TPR  CLASS  \n",
              "0    0.00   0.000   0.0000  0.00000      1  \n",
              "1    0.00   0.000   0.0000  0.00000      3  \n",
              "2    0.00   0.000   0.0000  0.00000      5  \n",
              "3  110.12  72.237   6.2001  0.80189      1  \n",
              "4  162.09  83.849  10.7200  0.62184      5  "
            ],
            "text/html": [
              "\n",
              "  <div id=\"df-3a3f9790-8c9e-462e-8a6f-29737af2a264\">\n",
              "    <div class=\"colab-df-container\">\n",
              "      <div>\n",
              "<style scoped>\n",
              "    .dataframe tbody tr th:only-of-type {\n",
              "        vertical-align: middle;\n",
              "    }\n",
              "\n",
              "    .dataframe tbody tr th {\n",
              "        vertical-align: top;\n",
              "    }\n",
              "\n",
              "    .dataframe thead th {\n",
              "        text-align: right;\n",
              "    }\n",
              "</style>\n",
              "<table border=\"1\" class=\"dataframe\">\n",
              "  <thead>\n",
              "    <tr style=\"text-align: right;\">\n",
              "      <th></th>\n",
              "      <th>Maximum</th>\n",
              "      <th>Minimum</th>\n",
              "      <th>Variance</th>\n",
              "      <th>Kurtosis</th>\n",
              "      <th>Skewness</th>\n",
              "      <th>Standard deviation</th>\n",
              "      <th>EDA</th>\n",
              "      <th>SBP</th>\n",
              "      <th>DBP</th>\n",
              "      <th>CO</th>\n",
              "      <th>TPR</th>\n",
              "      <th>CLASS</th>\n",
              "    </tr>\n",
              "  </thead>\n",
              "  <tbody>\n",
              "    <tr>\n",
              "      <th>0</th>\n",
              "      <td>6.48</td>\n",
              "      <td>5.64</td>\n",
              "      <td>0.061124</td>\n",
              "      <td>2.5641</td>\n",
              "      <td>0.86731</td>\n",
              "      <td>0.247230</td>\n",
              "      <td>5.9104</td>\n",
              "      <td>0.00</td>\n",
              "      <td>0.000</td>\n",
              "      <td>0.0000</td>\n",
              "      <td>0.00000</td>\n",
              "      <td>1</td>\n",
              "    </tr>\n",
              "    <tr>\n",
              "      <th>1</th>\n",
              "      <td>5.15</td>\n",
              "      <td>2.90</td>\n",
              "      <td>0.243640</td>\n",
              "      <td>5.1807</td>\n",
              "      <td>1.72390</td>\n",
              "      <td>0.493600</td>\n",
              "      <td>3.3650</td>\n",
              "      <td>0.00</td>\n",
              "      <td>0.000</td>\n",
              "      <td>0.0000</td>\n",
              "      <td>0.00000</td>\n",
              "      <td>3</td>\n",
              "    </tr>\n",
              "    <tr>\n",
              "      <th>2</th>\n",
              "      <td>4.65</td>\n",
              "      <td>4.33</td>\n",
              "      <td>0.009792</td>\n",
              "      <td>1.7583</td>\n",
              "      <td>-0.29437</td>\n",
              "      <td>0.098954</td>\n",
              "      <td>4.5102</td>\n",
              "      <td>0.00</td>\n",
              "      <td>0.000</td>\n",
              "      <td>0.0000</td>\n",
              "      <td>0.00000</td>\n",
              "      <td>5</td>\n",
              "    </tr>\n",
              "    <tr>\n",
              "      <th>3</th>\n",
              "      <td>2.07</td>\n",
              "      <td>1.46</td>\n",
              "      <td>0.012581</td>\n",
              "      <td>6.1922</td>\n",
              "      <td>1.50410</td>\n",
              "      <td>0.112160</td>\n",
              "      <td>1.6171</td>\n",
              "      <td>110.12</td>\n",
              "      <td>72.237</td>\n",
              "      <td>6.2001</td>\n",
              "      <td>0.80189</td>\n",
              "      <td>1</td>\n",
              "    </tr>\n",
              "    <tr>\n",
              "      <th>4</th>\n",
              "      <td>3.43</td>\n",
              "      <td>2.70</td>\n",
              "      <td>0.028615</td>\n",
              "      <td>2.7796</td>\n",
              "      <td>-0.68146</td>\n",
              "      <td>0.169160</td>\n",
              "      <td>3.1655</td>\n",
              "      <td>162.09</td>\n",
              "      <td>83.849</td>\n",
              "      <td>10.7200</td>\n",
              "      <td>0.62184</td>\n",
              "      <td>5</td>\n",
              "    </tr>\n",
              "  </tbody>\n",
              "</table>\n",
              "</div>\n",
              "      <button class=\"colab-df-convert\" onclick=\"convertToInteractive('df-3a3f9790-8c9e-462e-8a6f-29737af2a264')\"\n",
              "              title=\"Convert this dataframe to an interactive table.\"\n",
              "              style=\"display:none;\">\n",
              "        \n",
              "  <svg xmlns=\"http://www.w3.org/2000/svg\" height=\"24px\"viewBox=\"0 0 24 24\"\n",
              "       width=\"24px\">\n",
              "    <path d=\"M0 0h24v24H0V0z\" fill=\"none\"/>\n",
              "    <path d=\"M18.56 5.44l.94 2.06.94-2.06 2.06-.94-2.06-.94-.94-2.06-.94 2.06-2.06.94zm-11 1L8.5 8.5l.94-2.06 2.06-.94-2.06-.94L8.5 2.5l-.94 2.06-2.06.94zm10 10l.94 2.06.94-2.06 2.06-.94-2.06-.94-.94-2.06-.94 2.06-2.06.94z\"/><path d=\"M17.41 7.96l-1.37-1.37c-.4-.4-.92-.59-1.43-.59-.52 0-1.04.2-1.43.59L10.3 9.45l-7.72 7.72c-.78.78-.78 2.05 0 2.83L4 21.41c.39.39.9.59 1.41.59.51 0 1.02-.2 1.41-.59l7.78-7.78 2.81-2.81c.8-.78.8-2.07 0-2.86zM5.41 20L4 18.59l7.72-7.72 1.47 1.35L5.41 20z\"/>\n",
              "  </svg>\n",
              "      </button>\n",
              "      \n",
              "  <style>\n",
              "    .colab-df-container {\n",
              "      display:flex;\n",
              "      flex-wrap:wrap;\n",
              "      gap: 12px;\n",
              "    }\n",
              "\n",
              "    .colab-df-convert {\n",
              "      background-color: #E8F0FE;\n",
              "      border: none;\n",
              "      border-radius: 50%;\n",
              "      cursor: pointer;\n",
              "      display: none;\n",
              "      fill: #1967D2;\n",
              "      height: 32px;\n",
              "      padding: 0 0 0 0;\n",
              "      width: 32px;\n",
              "    }\n",
              "\n",
              "    .colab-df-convert:hover {\n",
              "      background-color: #E2EBFA;\n",
              "      box-shadow: 0px 1px 2px rgba(60, 64, 67, 0.3), 0px 1px 3px 1px rgba(60, 64, 67, 0.15);\n",
              "      fill: #174EA6;\n",
              "    }\n",
              "\n",
              "    [theme=dark] .colab-df-convert {\n",
              "      background-color: #3B4455;\n",
              "      fill: #D2E3FC;\n",
              "    }\n",
              "\n",
              "    [theme=dark] .colab-df-convert:hover {\n",
              "      background-color: #434B5C;\n",
              "      box-shadow: 0px 1px 3px 1px rgba(0, 0, 0, 0.15);\n",
              "      filter: drop-shadow(0px 1px 2px rgba(0, 0, 0, 0.3));\n",
              "      fill: #FFFFFF;\n",
              "    }\n",
              "  </style>\n",
              "\n",
              "      <script>\n",
              "        const buttonEl =\n",
              "          document.querySelector('#df-3a3f9790-8c9e-462e-8a6f-29737af2a264 button.colab-df-convert');\n",
              "        buttonEl.style.display =\n",
              "          google.colab.kernel.accessAllowed ? 'block' : 'none';\n",
              "\n",
              "        async function convertToInteractive(key) {\n",
              "          const element = document.querySelector('#df-3a3f9790-8c9e-462e-8a6f-29737af2a264');\n",
              "          const dataTable =\n",
              "            await google.colab.kernel.invokeFunction('convertToInteractive',\n",
              "                                                     [key], {});\n",
              "          if (!dataTable) return;\n",
              "\n",
              "          const docLinkHtml = 'Like what you see? Visit the ' +\n",
              "            '<a target=\"_blank\" href=https://colab.research.google.com/notebooks/data_table.ipynb>data table notebook</a>'\n",
              "            + ' to learn more about interactive tables.';\n",
              "          element.innerHTML = '';\n",
              "          dataTable['output_type'] = 'display_data';\n",
              "          await google.colab.output.renderOutput(dataTable, element);\n",
              "          const docLink = document.createElement('div');\n",
              "          docLink.innerHTML = docLinkHtml;\n",
              "          element.appendChild(docLink);\n",
              "        }\n",
              "      </script>\n",
              "    </div>\n",
              "  </div>\n",
              "  "
            ]
          },
          "metadata": {},
          "execution_count": 76
        }
      ]
    },
    {
      "cell_type": "code",
      "source": [
        "dataset.to_csv('/content/drive/MyDrive/POPANE/POPANE Dataset_v2_Cleaned.csv', index = False)"
      ],
      "metadata": {
        "id": "jpB-8XezosEq"
      },
      "execution_count": null,
      "outputs": []
    },
    {
      "cell_type": "code",
      "source": [
        "dataset=pd.read_csv('/content/drive/MyDrive/POPANE/POPANE Dataset_v2_Cleaned.csv')"
      ],
      "metadata": {
        "id": "I_WRwHSN9apZ"
      },
      "execution_count": null,
      "outputs": []
    },
    {
      "cell_type": "code",
      "source": [
        "sn.set_style(\"darkgrid\")\n",
        "fig_dims = (18,10)\n",
        "fig, ax = plt.subplots(figsize=fig_dims)\n",
        "sn.set(font_scale=2.5)\n",
        "sn.heatmap(dataset.corr(),annot=True, ax=ax, annot_kws={\"size\": 18}, cmap='RdBu')\n",
        "plt.show()"
      ],
      "metadata": {
        "id": "RjpVjnmuKsJH",
        "colab": {
          "base_uri": "https://localhost:8080/",
          "height": 700
        },
        "outputId": "cd4e7217-7a8a-4ff6-c81f-1ce8e4a1a7a7"
      },
      "execution_count": null,
      "outputs": [
        {
          "output_type": "display_data",
          "data": {
            "text/plain": [
              "<Figure size 1296x720 with 2 Axes>"
            ],
            "image/png": "[encoded data removed]"
          },
          "metadata": {}
        }
      ]
    },
    {
      "cell_type": "code",
      "source": [
        "X = dataset.drop(['CLASS'], axis = 1)\n",
        "y = dataset['CLASS'] \n",
        "counter = Counter(y)\n",
        "print(counter)\n",
        "pd.value_counts(dataset['CLASS']).plot.bar()"
      ],
      "metadata": {
        "colab": {
          "base_uri": "https://localhost:8080/",
          "height": 304
        },
        "id": "cHMfZvASGxCj",
        "outputId": "f58e9dfc-0bcc-4aa3-ff1a-e72480315225"
      },
      "execution_count": null,
      "outputs": [
        {
          "output_type": "stream",
          "name": "stdout",
          "text": [
            "Counter({5: 716, 1: 512, 0: 465, 4: 140, 9: 130, 3: 108, 10: 94, 2: 71, 7: 65, 6: 61, 8: 58})\n"
          ]
        },
        {
          "output_type": "execute_result",
          "data": {
            "text/plain": [
              "<matplotlib.axes._subplots.AxesSubplot at 0x7f6207747f10>"
            ]
          },
          "metadata": {},
          "execution_count": 8
        },
        {
          "output_type": "display_data",
          "data": {
            "text/plain": [
              "<Figure size 432x288 with 1 Axes>"
            ],
            "image/png": "[encoded data removed]"
          },
          "metadata": {
            "needs_background": "light"
          }
        }
      ]
    },
    {
      "cell_type": "code",
      "source": [
        "from imblearn.combine import SMOTETomek\n",
        "smt = SMOTETomek(random_state=42)\n",
        "X, y = smt.fit_resample(X, y)"
      ],
      "metadata": {
        "id": "tDYVFvVhR8v5"
      },
      "execution_count": null,
      "outputs": []
    },
    {
      "cell_type": "code",
      "source": [
        "#%% Train-Test Split\n",
        "from sklearn.model_selection import train_test_split\n",
        "X_train, X_test, y_train, y_test = train_test_split(X, y, test_size = 0.20, random_state = 0)"
      ],
      "metadata": {
        "id": "9HMe0yrPH11y"
      },
      "execution_count": null,
      "outputs": []
    },
    {
      "cell_type": "code",
      "source": [
        "#%%                               Feature Scaling\n",
        "\n",
        "\n",
        "# Feature Scaling\n",
        "from sklearn.preprocessing import StandardScaler\n",
        "sc = StandardScaler()\n",
        "X_train = sc.fit_transform(X_train)\n",
        "X_test = sc.transform(X_test)"
      ],
      "metadata": {
        "id": "3UarvLYGItIy"
      },
      "execution_count": null,
      "outputs": []
    },
    {
      "cell_type": "code",
      "source": [
        "#%%                   Fitting Logistic Regression to the Training set\n",
        "\n",
        "\n",
        "from sklearn.linear_model import LogisticRegression\n",
        "classifier_lg = LogisticRegression(random_state = 0)    \n",
        "classifier_lg.fit(X_train, y_train)\n",
        "\n",
        "# Predicting the Test set results\n",
        "y_pred_lg = classifier_lg.predict(X_test)\n",
        "\n",
        "# Making the Confusion Matrix\n",
        "from sklearn.metrics import confusion_matrix\n",
        "cm_lg = confusion_matrix(y_test, y_pred_lg)\n",
        "\n",
        "# sn.heatmap(cm_lg, annot= True)\n",
        "\n",
        "w = model_score(y_test,y_pred_lg)\n",
        "\n",
        "accuracy.append(w[0]); precision.append(w[1]); recall.append(w[2]); f1_value.append(w[3])\n",
        "#y_predict.append(y_pred_lg) # for 2nd layer \n",
        "\n",
        "print(\"\\n\")\n",
        "print(\"Summary of logistic Algorithm \\n\")     \n",
        "print_summary(w[0],w[1],w[2],w[3])"
      ],
      "metadata": {
        "colab": {
          "base_uri": "https://localhost:8080/"
        },
        "id": "u4Khz47wIw8B",
        "outputId": "015d5a9c-20f0-4202-94a7-45e94bc5aac4"
      },
      "execution_count": null,
      "outputs": [
        {
          "output_type": "stream",
          "name": "stdout",
          "text": [
            "\n",
            "\n",
            "Summary of logistic Algorithm \n",
            "\n",
            "Accuracy    = 0.3225950782997763\n",
            "Precision   = 0.3144072589146682\n",
            "Recall      = 0.32092415973649796\n",
            "F1 Score    = 0.29461730137233033\n",
            "\n",
            "\n"
          ]
        },
        {
          "output_type": "stream",
          "name": "stderr",
          "text": [
            "/usr/local/lib/python3.7/dist-packages/sklearn/linear_model/_logistic.py:818: ConvergenceWarning: lbfgs failed to converge (status=1):\n",
            "STOP: TOTAL NO. of ITERATIONS REACHED LIMIT.\n",
            "\n",
            "Increase the number of iterations (max_iter) or scale the data as shown in:\n",
            "    https://scikit-learn.org/stable/modules/preprocessing.html\n",
            "Please also refer to the documentation for alternative solver options:\n",
            "    https://scikit-learn.org/stable/modules/linear_model.html#logistic-regression\n",
            "  extra_warning_msg=_LOGISTIC_SOLVER_CONVERGENCE_MSG,\n"
          ]
        }
      ]
    },
    {
      "cell_type": "code",
      "source": [
        "#%%                            Fitting K-NN to the Training set\n",
        "\n",
        "from sklearn.neighbors import KNeighborsClassifier\n",
        "classifier_knn = KNeighborsClassifier(n_neighbors = 5, metric = 'minkowski', p = 2)\n",
        "classifier_knn.fit(X_train, y_train)\n",
        "\n",
        "# Predicting the Test set results\n",
        "y_pred_knn = classifier_knn.predict(X_test)\n",
        "\n",
        "# Making the Confusion Matrix\n",
        "from sklearn.metrics import confusion_matrix\n",
        "cm_knn = confusion_matrix(y_test, y_pred_knn)\n",
        "\n",
        "w = model_score(y_test,y_pred_knn)\n",
        "\n",
        "accuracy.append(w[0]); precision.append(w[1]); recall.append(w[2]); f1_value.append(w[3])\n",
        "y_predict.append(y_pred_knn) # for 2nd layer \n",
        "\n",
        "print(\"\\n\")\n",
        "print(\"Summary of KNN Algorithm \\n\")     \n",
        "print_summary(w[0],w[1],w[2],w[3])"
      ],
      "metadata": {
        "colab": {
          "base_uri": "https://localhost:8080/"
        },
        "id": "2tR4fNcRIzyx",
        "outputId": "d8812b75-035a-41d5-c26b-5a767019879b"
      },
      "execution_count": null,
      "outputs": [
        {
          "output_type": "stream",
          "name": "stdout",
          "text": [
            "\n",
            "\n",
            "Summary of KNN Algorithm \n",
            "\n",
            "Accuracy    = 0.6192393736017897\n",
            "Precision   = 0.5958540534740818\n",
            "Recall      = 0.615036864119769\n",
            "F1 Score    = 0.5914133025695545\n",
            "\n",
            "\n"
          ]
        }
      ]
    },
    {
      "cell_type": "code",
      "source": [
        "#%%                         Fitting SVM to the Training set\n",
        "\n",
        "\n",
        "from sklearn.svm import SVC\n",
        "classifier_svm = SVC(kernel = 'rbf', random_state = 0)\n",
        "classifier_svm.fit(X_train, y_train)\n",
        "\n",
        "# Predicting the Test set results\n",
        "y_pred_svm = classifier_svm.predict(X_test)\n",
        "\n",
        "# Making the Confusion Matrix\n",
        "from sklearn.metrics import confusion_matrix\n",
        "cm_svm = confusion_matrix(y_test, y_pred_svm)\n",
        "\n",
        "w = model_score(y_test,y_pred_svm)\n",
        "\n",
        "accuracy.append(w[0]); precision.append(w[1]); recall.append(w[2]); f1_value.append(w[3])\n",
        "#y_predict.append(y_pred_svm) # for 2nd layer \n",
        "\n",
        "print(\"\\n\")\n",
        "print(\"Summary of SVM Algorithm \\n\")     \n",
        "print_summary(w[0],w[1],w[2],w[3])"
      ],
      "metadata": {
        "colab": {
          "base_uri": "https://localhost:8080/"
        },
        "id": "lG5Z5cOELlYt",
        "outputId": "67d7e00f-f7c6-44c2-bb3c-99da2d0a9bbf"
      },
      "execution_count": null,
      "outputs": [
        {
          "output_type": "stream",
          "name": "stdout",
          "text": [
            "\n",
            "\n",
            "Summary of SVM Algorithm \n",
            "\n",
            "Accuracy    = 0.3865771812080537\n",
            "Precision   = 0.37025449020809814\n",
            "Recall      = 0.384917734094647\n",
            "F1 Score    = 0.3612448621878057\n",
            "\n",
            "\n"
          ]
        }
      ]
    },
    {
      "cell_type": "code",
      "source": [
        "#%%                    Training the Naive Bayes model on the Training set\n",
        "\n",
        "\n",
        "from sklearn.naive_bayes import GaussianNB\n",
        "classifier_nb = GaussianNB()\n",
        "classifier_nb.fit(X_train, y_train)\n",
        "\n",
        "# Predicting the Test set results\n",
        "y_pred_nb = classifier_nb.predict(X_test)\n",
        "\n",
        "# Making the Confusion Matrix\n",
        "from sklearn.metrics import confusion_matrix\n",
        "cm_nb = confusion_matrix(y_test, y_pred_nb)\n",
        "\n",
        "w = model_score(y_test,y_pred_nb)\n",
        "\n",
        "accuracy.append(w[0]); precision.append(w[1]); recall.append(w[2]); f1_value.append(w[3])\n",
        "#y_predict.append(y_pred_nb) # for 2nd layer \n",
        "\n",
        "print(\"\\n\")\n",
        "print(\"Summary of Naive Bayes Algorithm \\n\")     \n",
        "print_summary(w[0],w[1],w[2],w[3])"
      ],
      "metadata": {
        "colab": {
          "base_uri": "https://localhost:8080/"
        },
        "id": "80bPSMKdLmNy",
        "outputId": "f4614bb0-07ae-47a5-c2fd-780791d55a09"
      },
      "execution_count": null,
      "outputs": [
        {
          "output_type": "stream",
          "name": "stdout",
          "text": [
            "\n",
            "\n",
            "Summary of Naive Bayes Algorithm \n",
            "\n",
            "Accuracy    = 0.26532438478747206\n",
            "Precision   = 0.30774067564874225\n",
            "Recall      = 0.2643455614007093\n",
            "F1 Score    = 0.2348826953194094\n",
            "\n",
            "\n"
          ]
        }
      ]
    },
    {
      "cell_type": "code",
      "source": [
        "#%%                  Fitting Decision Tree Classification to the Training set\n",
        "\n",
        "from sklearn.tree import DecisionTreeClassifier\n",
        "classifier_dt = DecisionTreeClassifier(criterion = 'entropy', random_state = 0) # entropy, gini\n",
        "classifier_dt.fit(X_train, y_train)\n",
        "\n",
        "# Predicting the Test set results\n",
        "y_pred_dt = classifier_dt.predict(X_test)\n",
        "\n",
        "# Making the Confusion Matrix\n",
        "from sklearn.metrics import confusion_matrix\n",
        "cm_dt = confusion_matrix(y_test, y_pred_dt)\n",
        "\n",
        "w = model_score(y_test,y_pred_dt)\n",
        "\n",
        "accuracy.append(w[0]); precision.append(w[1]); recall.append(w[2]); f1_value.append(w[3])\n",
        "#y_predict.append(y_pred_dt) # for 2nd layer \n",
        "\n",
        "print(\"\\n\")\n",
        "print(\"Summary of Decision Tree Algorithm \\n\")     \n",
        "print_summary(w[0],w[1],w[2],w[3])"
      ],
      "metadata": {
        "colab": {
          "base_uri": "https://localhost:8080/"
        },
        "id": "OXHB6--jLsdC",
        "outputId": "2ed6be50-4583-4fec-be8e-913b92953e8d"
      },
      "execution_count": null,
      "outputs": [
        {
          "output_type": "stream",
          "name": "stdout",
          "text": [
            "\n",
            "\n",
            "Summary of Decision Tree Algorithm \n",
            "\n",
            "Accuracy    = 0.6031319910514541\n",
            "Precision   = 0.588935720060718\n",
            "Recall      = 0.5987178510391823\n",
            "F1 Score    = 0.5922764314263435\n",
            "\n",
            "\n"
          ]
        }
      ]
    },
    {
      "cell_type": "code",
      "source": [
        "#%%                Fitting Random Forest Classification to the Training set\n",
        "\n",
        "\n",
        "from sklearn.ensemble import RandomForestClassifier\n",
        "classifier_rf = RandomForestClassifier(n_estimators = 1500, criterion = 'gini', random_state = 0) #'entropy' ,'gini'\n",
        "classifier_rf.fit(X_train, y_train)\n",
        "\n",
        "# Predicting the Test set results\n",
        "y_pred_rf = classifier_rf.predict(X_test)\n",
        "\n",
        "# Making the Confusion Matrix\n",
        "from sklearn.metrics import confusion_matrix\n",
        "cm_rf = confusion_matrix(y_test, y_pred_rf)\n",
        "print(cm_rf)\n",
        "w = model_score(y_test,y_pred_rf)\n",
        "\n",
        "accuracy.append(w[0]); precision.append(w[1]); recall.append(w[2]); f1_value.append(w[3])\n",
        "y_predict.append(y_pred_rf) # for 2nd layer \n",
        "\n",
        "print(\"\\n\")\n",
        "print(\"Summary of Random Forest Algorithm \\n\")     \n",
        "print_summary(w[0],w[1],w[2],w[3])"
      ],
      "metadata": {
        "colab": {
          "base_uri": "https://localhost:8080/"
        },
        "id": "ZM6XWk4FLypZ",
        "outputId": "99a0cf9e-985a-4085-a0c0-83511e2754b9"
      },
      "execution_count": null,
      "outputs": [
        {
          "output_type": "stream",
          "name": "stdout",
          "text": [
            "[[105   8  14  10  10   9   0   2  13  23   3]\n",
            " [ 15  71  15  15   9   8   6   4  17  10  24]\n",
            " [  2   2 166   5   7   0   0   0   7  10   0]\n",
            " [  5   6   5 179   8   2   0   0  11   6   0]\n",
            " [  5   4   3   6 166   4   1   0   3   3   0]\n",
            " [ 13  22  12  19  26  63   7   4   9  15   5]\n",
            " [  0   0   0   0   0   1 198   3   0   0   2]\n",
            " [  0   0   0   0   0   0   4 194   0   0  10]\n",
            " [  1   4   6   1   4   1   1   0 175   4   0]\n",
            " [ 11   1   7   4   7   2   0   0   7 178   0]\n",
            " [  0   1   0   0   0   0   3   9   0   0 194]]\n",
            "\n",
            "\n",
            "Summary of Random Forest Algorithm \n",
            "\n",
            "Accuracy    = 0.7557046979865771\n",
            "Precision   = 0.7449226079844306\n",
            "Recall      = 0.7511718565135799\n",
            "F1 Score    = 0.735799109397674\n",
            "\n",
            "\n"
          ]
        }
      ]
    },
    {
      "cell_type": "code",
      "source": [
        "# Classification Report\n",
        "from sklearn.metrics import classification_report\n",
        "print(classification_report(y_test, y_pred_rf))"
      ],
      "metadata": {
        "colab": {
          "base_uri": "https://localhost:8080/"
        },
        "id": "FvWWbuXrnCo5",
        "outputId": "942f5bec-365a-4b1b-e79c-e93834671326"
      },
      "execution_count": null,
      "outputs": [
        {
          "output_type": "stream",
          "name": "stdout",
          "text": [
            "              precision    recall  f1-score   support\n",
            "\n",
            "           0       0.67      0.53      0.59       197\n",
            "           1       0.60      0.37      0.45       194\n",
            "           2       0.73      0.83      0.78       199\n",
            "           3       0.75      0.81      0.78       222\n",
            "           4       0.70      0.85      0.77       195\n",
            "           5       0.70      0.32      0.44       195\n",
            "           6       0.90      0.97      0.93       204\n",
            "           7       0.90      0.93      0.92       208\n",
            "           8       0.72      0.89      0.80       197\n",
            "           9       0.71      0.82      0.76       217\n",
            "          10       0.82      0.94      0.87       207\n",
            "\n",
            "    accuracy                           0.76      2235\n",
            "   macro avg       0.74      0.75      0.74      2235\n",
            "weighted avg       0.75      0.76      0.74      2235\n",
            "\n"
          ]
        }
      ]
    },
    {
      "cell_type": "code",
      "source": [
        "k_fold(classifier_rf)"
      ],
      "metadata": {
        "colab": {
          "base_uri": "https://localhost:8080/",
          "height": 699
        },
        "id": "ALTfrDdSV546",
        "outputId": "0e5caffb-0b57-47b9-9391-f1f0b064b09c"
      },
      "execution_count": null,
      "outputs": [
        {
          "output_type": "display_data",
          "data": {
            "text/plain": [
              "<Figure size 1440x720 with 1 Axes>"
            ],
            "image/png": "[encoded data removed]"
          },
          "metadata": {}
        },
        {
          "output_type": "stream",
          "name": "stdout",
          "text": [
            "Accuracy   : 0.7345148979891384\n",
            "Precision  : 0.7098053919100199\n",
            "Recall     : 0.723540000164504\n",
            "f1 score   : 0.7071566909136419\n",
            "\n",
            "\n"
          ]
        },
        {
          "output_type": "execute_result",
          "data": {
            "text/plain": [
              "[0.7345148979891384, 0.7098053919100199, 0.723540000164504, 0.7071566909136419]"
            ]
          },
          "metadata": {},
          "execution_count": 105
        }
      ]
    },
    {
      "cell_type": "code",
      "source": [
        "#%%                      Training XGBoost on the Training set\n",
        "\n",
        "\n",
        "from xgboost import XGBClassifier\n",
        "classifier_xgb = XGBClassifier(n_estimators = 15, max_depth=12, subsample=0.7) #n_estimator =15 \n",
        "classifier_xgb.fit(X_train, y_train)\n",
        "\n",
        "# Predicting the Test set results\n",
        "y_pred_xgb = classifier_xgb.predict(X_test)\n",
        "\n",
        "# Making the Confusion Matrix\n",
        "from sklearn.metrics import confusion_matrix\n",
        "cm_xgb = confusion_matrix(y_test, y_pred_xgb)\n",
        "\n",
        "w = model_score(y_test,y_pred_xgb)\n",
        "\n",
        "accuracy.append(w[0]); precision.append(w[1]); recall.append(w[2]); f1_value.append(w[3])\n",
        "y_predict.append(y_pred_xgb) # for 2nd layer \n",
        "\n",
        "print(\"\\n\")\n",
        "print(\"Summary of XGBooost Algorithm \\n\")     \n",
        "print_summary(w[0],w[1],w[2],w[3])"
      ],
      "metadata": {
        "colab": {
          "base_uri": "https://localhost:8080/"
        },
        "id": "cW-xPjQML6VB",
        "outputId": "a59e518f-9eea-4d97-8c5a-7bf590570892"
      },
      "execution_count": null,
      "outputs": [
        {
          "output_type": "stream",
          "name": "stdout",
          "text": [
            "\n",
            "\n",
            "Summary of XGBooost Algorithm \n",
            "\n",
            "Accuracy    = 0.6621923937360179\n",
            "Precision   = 0.6410082781527655\n",
            "Recall      = 0.657991155560494\n",
            "F1 Score    = 0.643263862755034\n",
            "\n",
            "\n"
          ]
        }
      ]
    },
    {
      "cell_type": "code",
      "source": [
        "#%%                              Adaboost Classifier\n",
        "\n",
        "\n",
        "from sklearn.ensemble import AdaBoostClassifier\n",
        "classifier_abd = AdaBoostClassifier(n_estimators=200, learning_rate=1)# n_est = 400\n",
        "classifier_abd.fit(X_train, y_train)\n",
        "y_pred_abd = classifier_abd.predict(X_test)\n",
        "\n",
        "# Making the Confusion Matrix\n",
        "from sklearn.metrics import confusion_matrix\n",
        "cm_abd = confusion_matrix(y_test, y_pred_abd)\n",
        "\n",
        "w = model_score(y_test,y_pred_abd)\n",
        "\n",
        "accuracy.append(w[0]); precision.append(w[1]); recall.append(w[2]); f1_value.append(w[3])\n",
        "#y_predict.append(y_pred_abd) # for 2nd layer \n",
        "\n",
        "print(\"\\n\")\n",
        "print(\"Summary of AdaBoost Algorithm \\n\")     \n",
        "print_summary(w[0],w[1],w[2],w[3])  \n",
        "    \n",
        "    \n",
        "\n",
        "plott(algorithms,accuracy,\"Accuracy\") \n",
        "    "
      ],
      "metadata": {
        "colab": {
          "base_uri": "https://localhost:8080/",
          "height": 895
        },
        "id": "BiPAgu2wMF5p",
        "outputId": "5138de53-6737-4a6f-bad9-1ea7cc2cce62"
      },
      "execution_count": null,
      "outputs": [
        {
          "output_type": "stream",
          "name": "stdout",
          "text": [
            "\n",
            "\n",
            "Summary of AdaBoost Algorithm \n",
            "\n",
            "Accuracy    = 0.19776286353467562\n",
            "Precision   = 0.19320509781353523\n",
            "Recall      = 0.19987640876682392\n",
            "F1 Score    = 0.16440290812248998\n",
            "\n",
            "\n"
          ]
        },
        {
          "output_type": "stream",
          "name": "stderr",
          "text": [
            "/usr/local/lib/python3.7/dist-packages/seaborn/_decorators.py:43: FutureWarning: Pass the following variables as keyword args: x, y. From version 0.12, the only valid positional argument will be `data`, and passing other arguments without an explicit keyword will result in an error or misinterpretation.\n",
            "  FutureWarning\n"
          ]
        },
        {
          "output_type": "display_data",
          "data": {
            "text/plain": [
              "<Figure size 1440x720 with 1 Axes>"
            ],
            "image/png": "[encoded data removed]"
          },
          "metadata": {}
        }
      ]
    },
    {
      "cell_type": "code",
      "source": [
        "#%% Ensemble Learning\n",
        "\n",
        "\n",
        "a = len(y_predict)\n",
        "b= len(y_test)\n",
        "\n",
        "# Test data\n",
        "y_all = np.array(y_predict)\n",
        "y_all.transpose()\n",
        "y_all.dot(y_all.transpose())\n",
        "y_all.shape = (a,b)\n",
        "y_all_t= y_all.transpose()\n",
        "\n",
        "\n",
        "\n",
        "#%%     2nd layer \n",
        "# Initialization\n",
        "y_predict = [] # for multilayer\n",
        "algorithms = [\"Logistic Regression\",\"K-nn\", \"SVM\", \"Naive Bayes\", \"Decission Tree\", \"Random Forest\",\"XgBoost\", \"AdaBoost\"]\n",
        "accuracy  = []\n",
        "precision = []\n",
        "recall    = []\n",
        "f1_value  = []\n",
        "#%%               Spliting the dataset into Training set and Test set\n",
        "# Splitting the dataset into the Training set and Test set\n",
        "from sklearn.model_selection import train_test_split\n",
        "X_train, X_test, y_train, y_test = train_test_split(y_all_t, y_test, test_size = 0.30, random_state = 0)\n",
        "#%%                               Feature Scaling\n",
        "from sklearn.preprocessing import StandardScaler\n",
        "sc = StandardScaler()\n",
        "X_train = sc.fit_transform(X_train)\n",
        "X_test = sc.transform(X_test)\n",
        "print(X_train.shape)"
      ],
      "metadata": {
        "id": "VkmxKaFkMIj5",
        "colab": {
          "base_uri": "https://localhost:8080/"
        },
        "outputId": "8a15c96b-ee9f-4bd5-e9d2-63c6f5c87f1b"
      },
      "execution_count": null,
      "outputs": [
        {
          "output_type": "stream",
          "name": "stdout",
          "text": [
            "(1564, 3)\n"
          ]
        }
      ]
    },
    {
      "cell_type": "code",
      "source": [
        "#%%                   Fitting Logistic Regression to the Training set\n",
        "from sklearn.linear_model import LogisticRegression\n",
        "classifier_lg = LogisticRegression(random_state = 0)\n",
        "classifier_lg.fit(X_train, y_train)\n",
        "# Predicting the Test set results\n",
        "y_pred_lg = classifier_lg.predict(X_test)\n",
        "# Making the Confusion Matrix\n",
        "from sklearn.metrics import confusion_matrix\n",
        "cm_lg = confusion_matrix(y_test, y_pred_lg)\n",
        "# sn.heatmap(cm_lg, annot= True)\n",
        "w = model_score(y_test,y_pred_lg)\n",
        "accuracy.append(w[0]); precision.append(w[1]); recall.append(w[2]); f1_value.append(w[3])\n",
        "print(\"\\n\")\n",
        "print(\"Summary of logistic Algorithm \\n\")     \n",
        "print_summary(w[0],w[1],w[2],w[3])"
      ],
      "metadata": {
        "colab": {
          "base_uri": "https://localhost:8080/"
        },
        "id": "26nAgs_DAJv2",
        "outputId": "ba005584-342a-4aa6-b907-7dc0f6324b99"
      },
      "execution_count": null,
      "outputs": [
        {
          "output_type": "stream",
          "name": "stdout",
          "text": [
            "\n",
            "\n",
            "Summary of logistic Algorithm \n",
            "\n",
            "Accuracy    = 0.4187779433681073\n",
            "Precision   = 0.32826957090651504\n",
            "Recall      = 0.4027353976490652\n",
            "F1 Score    = 0.3268633105949504\n",
            "\n",
            "\n"
          ]
        },
        {
          "output_type": "stream",
          "name": "stderr",
          "text": [
            "/usr/local/lib/python3.7/dist-packages/sklearn/metrics/_classification.py:1318: UndefinedMetricWarning: Precision is ill-defined and being set to 0.0 in labels with no predicted samples. Use `zero_division` parameter to control this behavior.\n",
            "  _warn_prf(average, modifier, msg_start, len(result))\n"
          ]
        }
      ]
    },
    {
      "cell_type": "code",
      "source": [
        "#%%                            Fitting K-NN to the Training set\n",
        "from sklearn.neighbors import KNeighborsClassifier\n",
        "classifier_knn = KNeighborsClassifier(n_neighbors = 5, metric = 'minkowski', p = 2)\n",
        "classifier_knn.fit(X_train, y_train)\n",
        "# Predicting the Test set results\n",
        "y_pred_knn = classifier_knn.predict(X_test)\n",
        "# Making the Confusion Matrix\n",
        "from sklearn.metrics import confusion_matrix\n",
        "cm_knn = confusion_matrix(y_test, y_pred_knn)\n",
        "w = model_score(y_test,y_pred_knn)\n",
        "accuracy.append(w[0]); precision.append(w[1]); recall.append(w[2]); f1_value.append(w[3])\n",
        "print(\"\\n\")\n",
        "print(\"Summary of KNN Algorithm \\n\")     \n",
        "print_summary(w[0],w[1],w[2],w[3])"
      ],
      "metadata": {
        "colab": {
          "base_uri": "https://localhost:8080/"
        },
        "id": "CquX8AX_ARbW",
        "outputId": "88280045-ab32-440e-f07f-4126f0a56d8e"
      },
      "execution_count": null,
      "outputs": [
        {
          "output_type": "stream",
          "name": "stdout",
          "text": [
            "\n",
            "\n",
            "Summary of KNN Algorithm \n",
            "\n",
            "Accuracy    = 0.6721311475409836\n",
            "Precision   = 0.6768894728913892\n",
            "Recall      = 0.6670237991904311\n",
            "F1 Score    = 0.6604078753404519\n",
            "\n",
            "\n"
          ]
        }
      ]
    },
    {
      "cell_type": "code",
      "source": [
        "#%%                         Fitting SVM to the Training set\n",
        "from sklearn.svm import SVC\n",
        "classifier_svm = SVC(kernel = 'rbf', random_state = 0)\n",
        "classifier_svm.fit(X_train, y_train)\n",
        "# Predicting the Test set results\n",
        "y_pred_svm = classifier_svm.predict(X_test)\n",
        "# Making the Confusion Matrix\n",
        "from sklearn.metrics import confusion_matrix\n",
        "cm_svm = confusion_matrix(y_test, y_pred_svm)\n",
        "w = model_score(y_test,y_pred_svm)\n",
        "accuracy.append(w[0]); precision.append(w[1]); recall.append(w[2]); f1_value.append(w[3])\n",
        "print(\"\\n\")\n",
        "print(\"Summary of SVM Algorithm \\n\")     \n",
        "print_summary(w[0],w[1],w[2],w[3])"
      ],
      "metadata": {
        "colab": {
          "base_uri": "https://localhost:8080/"
        },
        "id": "W0D0WOAzAUCd",
        "outputId": "48451fd1-1899-4ab1-a073-01f111012081"
      },
      "execution_count": null,
      "outputs": [
        {
          "output_type": "stream",
          "name": "stdout",
          "text": [
            "\n",
            "\n",
            "Summary of SVM Algorithm \n",
            "\n",
            "Accuracy    = 0.684053651266766\n",
            "Precision   = 0.6655592828804611\n",
            "Recall      = 0.6769863726177435\n",
            "F1 Score    = 0.6582929237566696\n",
            "\n",
            "\n"
          ]
        }
      ]
    },
    {
      "cell_type": "code",
      "source": [
        "#%%                    Training the Naive Bayes model on the Training set\n",
        "from sklearn.naive_bayes import GaussianNB\n",
        "classifier_nb = GaussianNB()\n",
        "classifier_nb.fit(X_train, y_train)\n",
        "# Predicting the Test set results\n",
        "y_pred_nb = classifier_nb.predict(X_test)\n",
        "# Making the Confusion Matrix\n",
        "from sklearn.metrics import confusion_matrix\n",
        "cm_nb = confusion_matrix(y_test, y_pred_nb)\n",
        "w = model_score(y_test,y_pred_nb)\n",
        "accuracy.append(w[0]); precision.append(w[1]); recall.append(w[2]); f1_value.append(w[3])\n",
        "print(\"\\n\")\n",
        "print(\"Summary of Naive Bayes Algorithm \\n\")     \n",
        "print_summary(w[0],w[1],w[2],w[3])"
      ],
      "metadata": {
        "colab": {
          "base_uri": "https://localhost:8080/"
        },
        "id": "DvqdOHXHAXyQ",
        "outputId": "0c258881-b586-488f-b0e7-b4915bc9d96b"
      },
      "execution_count": null,
      "outputs": [
        {
          "output_type": "stream",
          "name": "stdout",
          "text": [
            "\n",
            "\n",
            "Summary of Naive Bayes Algorithm \n",
            "\n",
            "Accuracy    = 0.46348733233979134\n",
            "Precision   = 0.41151384977778593\n",
            "Recall      = 0.4545492686589004\n",
            "F1 Score    = 0.4002518726619732\n",
            "\n",
            "\n"
          ]
        }
      ]
    },
    {
      "cell_type": "code",
      "source": [
        "#%%                  Fitting Decision Tree Classification to the Training set\n",
        "from sklearn.tree import DecisionTreeClassifier\n",
        "classifier_dt = DecisionTreeClassifier(criterion = 'entropy', random_state = 0) # entropy, gini\n",
        "classifier_dt.fit(X_train, y_train)\n",
        "# Predicting the Test set results\n",
        "y_pred_dt = classifier_dt.predict(X_test)\n",
        "# Making the Confusion Matrix\n",
        "from sklearn.metrics import confusion_matrix\n",
        "cm_dt = confusion_matrix(y_test, y_pred_dt)\n",
        "w = model_score(y_test,y_pred_dt)\n",
        "accuracy.append(w[0]); precision.append(w[1]); recall.append(w[2]); f1_value.append(w[3])\n",
        "print(\"\\n\")\n",
        "print(\"Summary of Decision Tree Algorithm \\n\")     \n",
        "print_summary(w[0],w[1],w[2],w[3])"
      ],
      "metadata": {
        "colab": {
          "base_uri": "https://localhost:8080/"
        },
        "id": "rUgUXfjzAbPQ",
        "outputId": "c8e8b04d-e8f5-42bf-f94d-3b520b59b828"
      },
      "execution_count": null,
      "outputs": [
        {
          "output_type": "stream",
          "name": "stdout",
          "text": [
            "\n",
            "\n",
            "Summary of Decision Tree Algorithm \n",
            "\n",
            "Accuracy    = 0.7183308494783904\n",
            "Precision   = 0.6949621124821587\n",
            "Recall      = 0.7110097649155273\n",
            "F1 Score    = 0.6997858878515062\n",
            "\n",
            "\n"
          ]
        }
      ]
    },
    {
      "cell_type": "code",
      "source": [
        "#%%                Fitting Random Forest Classification to the Training set\n",
        "from sklearn.ensemble import RandomForestClassifier\n",
        "classifier_rf = RandomForestClassifier(n_estimators = 1500, criterion = 'gini', random_state = 0) #'entropy' ,'gini'\n",
        "classifier_rf.fit(X_train, y_train)\n",
        "# Predicting the Test set results\n",
        "y_pred_rf = classifier_rf.predict(X_test)\n",
        "# Making the Confusion Matrix\n",
        "from sklearn.metrics import confusion_matrix\n",
        "cm_rf = confusion_matrix(y_test, y_pred_rf)\n",
        "w = model_score(y_test,y_pred_rf)\n",
        "accuracy.append(w[0]); precision.append(w[1]); recall.append(w[2]); f1_value.append(w[3])\n",
        "print(\"\\n\")\n",
        "print(\"Summary of Random Forest Algorithm \\n\")     \n",
        "print_summary(w[0],w[1],w[2],w[3])"
      ],
      "metadata": {
        "colab": {
          "base_uri": "https://localhost:8080/"
        },
        "id": "RxfId-D0Ae_x",
        "outputId": "bc844bbe-4c8a-4c50-f3d0-cf6554401d3a"
      },
      "execution_count": null,
      "outputs": [
        {
          "output_type": "stream",
          "name": "stdout",
          "text": [
            "\n",
            "\n",
            "Summary of Random Forest Algorithm \n",
            "\n",
            "Accuracy    = 0.7391952309985097\n",
            "Precision   = 0.7139129415610008\n",
            "Recall      = 0.7331247976764931\n",
            "F1 Score    = 0.7180640628125663\n",
            "\n",
            "\n"
          ]
        }
      ]
    },
    {
      "cell_type": "code",
      "source": [
        "#%%                      Training XGBoost on the Training set\n",
        "from xgboost import XGBClassifier\n",
        "classifier_xgb = XGBClassifier(n_estimators = 12, max_depth=12, subsample=0.7)\n",
        "classifier_xgb.fit(X_train, y_train)\n",
        "# Predicting the Test set results\n",
        "y_pred_xgb = classifier_xgb.predict(X_test)\n",
        "# Making the Confusion Matrix\n",
        "from sklearn.metrics import confusion_matrix\n",
        "cm_xgb = confusion_matrix(y_test, y_pred_xgb)\n",
        "w = model_score(y_test,y_pred_xgb)\n",
        "accuracy.append(w[0]); precision.append(w[1]); recall.append(w[2]); f1_value.append(w[3])\n",
        "print(\"\\n\")\n",
        "print(\"Summary of XGBooost Algorithm \\n\")     \n",
        "print_summary(w[0],w[1],w[2],w[3])"
      ],
      "metadata": {
        "colab": {
          "base_uri": "https://localhost:8080/"
        },
        "id": "FQcI-zEWAifL",
        "outputId": "09e9ed12-c52e-4d20-e2fd-5869be45be48"
      },
      "execution_count": null,
      "outputs": [
        {
          "output_type": "stream",
          "name": "stdout",
          "text": [
            "\n",
            "\n",
            "Summary of XGBooost Algorithm \n",
            "\n",
            "Accuracy    = 0.7764530551415797\n",
            "Precision   = 0.7665365770273591\n",
            "Recall      = 0.7712381994262585\n",
            "F1 Score    = 0.760657199398577\n",
            "\n",
            "\n"
          ]
        }
      ]
    },
    {
      "cell_type": "code",
      "source": [
        "#%%                              Adaboost Classifier\n",
        "from sklearn.ensemble import AdaBoostClassifier\n",
        "classifier_abd = AdaBoostClassifier(n_estimators=200, learning_rate=1)\n",
        "classifier_abd.fit(X_train, y_train)\n",
        "y_pred_abd = classifier_abd.predict(X_test)\n",
        "# Making the Confusion Matrix\n",
        "from sklearn.metrics import confusion_matrix\n",
        "cm_abd = confusion_matrix(y_test, y_pred_abd)\n",
        "w = model_score(y_test,y_pred_abd)\n",
        "accuracy.append(w[0]); precision.append(w[1]); recall.append(w[2]); f1_value.append(w[3])\n",
        "print(\"\\n\")\n",
        "print(\"Summary of AdaBoost Algorithm \\n\")     \n",
        "print_summary(w[0],w[1],w[2],w[3])\n",
        "#%% _________________________________ Ploting The Results _______________________________________\n",
        "plott(algorithms,accuracy,\"Accuracy\")\n",
        "#plott(algorithms,precision,\"Precision\")\n",
        "#plott(algorithms,recall,\"Recall\")\n",
        "#plott(algorithms,f1_value,\"f1 score\")"
      ],
      "metadata": {
        "colab": {
          "base_uri": "https://localhost:8080/",
          "height": 895
        },
        "id": "xQ1KT9yzAuRq",
        "outputId": "465f6898-ddd9-493f-badc-4bfe78939b2c"
      },
      "execution_count": null,
      "outputs": [
        {
          "output_type": "stream",
          "name": "stdout",
          "text": [
            "\n",
            "\n",
            "Summary of AdaBoost Algorithm \n",
            "\n",
            "Accuracy    = 0.35171385991058124\n",
            "Precision   = 0.4244782148539865\n",
            "Recall      = 0.35977628166623377\n",
            "F1 Score    = 0.2950849702576053\n",
            "\n",
            "\n"
          ]
        },
        {
          "output_type": "stream",
          "name": "stderr",
          "text": [
            "/usr/local/lib/python3.7/dist-packages/seaborn/_decorators.py:43: FutureWarning: Pass the following variables as keyword args: x, y. From version 0.12, the only valid positional argument will be `data`, and passing other arguments without an explicit keyword will result in an error or misinterpretation.\n",
            "  FutureWarning\n"
          ]
        },
        {
          "output_type": "display_data",
          "data": {
            "text/plain": [
              "<Figure size 1440x720 with 1 Axes>"
            ],
            "image/png": "[encoded data removed]"
          },
          "metadata": {}
        }
      ]
    },
    {
      "cell_type": "markdown",
      "source": [
        "ANN"
      ],
      "metadata": {
        "id": "hrJlddwVU8eN"
      }
    },
    {
      "cell_type": "code",
      "source": [
        "import keras\n",
        "from keras.models import Sequential\n",
        "from keras.layers import Dense\n",
        "import tensorflow as tf\n",
        "import keras.backend as K"
      ],
      "metadata": {
        "id": "JbnYlwnxAy05"
      },
      "execution_count": null,
      "outputs": []
    },
    {
      "cell_type": "code",
      "source": [
        "#Initialising ANN\n",
        "ann = tf.keras.models.Sequential()"
      ],
      "metadata": {
        "id": "QASjJ-ijVDSI"
      },
      "execution_count": null,
      "outputs": []
    },
    {
      "cell_type": "code",
      "source": [
        " #Adding First Hidden Layer\n",
        "ann.add(Dense(2000, activation = \"relu\"))"
      ],
      "metadata": {
        "id": "Cl1vWo6qVHjv"
      },
      "execution_count": null,
      "outputs": []
    },
    {
      "cell_type": "code",
      "source": [
        "#Adding Second Hidden Layer\n",
        "ann.add(Dense(2000, activation = \"relu\"))"
      ],
      "metadata": {
        "id": "6yQD8X9pVc71"
      },
      "execution_count": null,
      "outputs": []
    },
    {
      "cell_type": "code",
      "source": [
        "#Adding Output Layer\n",
        "ann.add(Dense(11, activation = \"softmax\"))"
      ],
      "metadata": {
        "id": "onWA_7j4Yr31"
      },
      "execution_count": null,
      "outputs": []
    },
    {
      "cell_type": "code",
      "source": [
        "#Compiling ANN\n",
        "ann.compile(optimizer=\"adam\",loss=\"sparse_categorical_crossentropy\",metrics=['accuracy'])"
      ],
      "metadata": {
        "id": "rBU7-OQKZ_ck"
      },
      "execution_count": null,
      "outputs": []
    },
    {
      "cell_type": "code",
      "source": [
        "#Fitting ANN\n",
        "ann.fit(X_train,y_train,batch_size=32,epochs = 100)"
      ],
      "metadata": {
        "colab": {
          "base_uri": "https://localhost:8080/"
        },
        "id": "q1Ywg6yyompS",
        "outputId": "4ba1fb42-83c1-454a-a3dd-9b94976a0d90"
      },
      "execution_count": null,
      "outputs": [
        {
          "output_type": "stream",
          "name": "stdout",
          "text": [
            "Epoch 1/100\n",
            "163/163 [==============================] - 6s 34ms/step - loss: 0.3193 - accuracy: 0.9461\n",
            "Epoch 2/100\n",
            "163/163 [==============================] - 5s 34ms/step - loss: 0.2551 - accuracy: 0.9425\n",
            "Epoch 3/100\n",
            "163/163 [==============================] - 5s 33ms/step - loss: 0.2085 - accuracy: 0.9521\n",
            "Epoch 4/100\n",
            "163/163 [==============================] - 5s 33ms/step - loss: 0.2046 - accuracy: 0.9569\n",
            "Epoch 5/100\n",
            "163/163 [==============================] - 5s 33ms/step - loss: 0.1891 - accuracy: 0.9521\n",
            "Epoch 6/100\n",
            "163/163 [==============================] - 5s 33ms/step - loss: 0.1807 - accuracy: 0.9584\n",
            "Epoch 7/100\n",
            "163/163 [==============================] - 5s 33ms/step - loss: 0.1684 - accuracy: 0.9607\n",
            "Epoch 8/100\n",
            "163/163 [==============================] - 5s 33ms/step - loss: 0.1638 - accuracy: 0.9588\n",
            "Epoch 9/100\n",
            "163/163 [==============================] - 5s 33ms/step - loss: 0.1778 - accuracy: 0.9519\n",
            "Epoch 10/100\n",
            "163/163 [==============================] - 5s 33ms/step - loss: 0.1809 - accuracy: 0.9593\n",
            "Epoch 11/100\n",
            "163/163 [==============================] - 5s 33ms/step - loss: 0.1945 - accuracy: 0.9532\n",
            "Epoch 12/100\n",
            "163/163 [==============================] - 5s 34ms/step - loss: 0.1798 - accuracy: 0.9553\n",
            "Epoch 13/100\n",
            "163/163 [==============================] - 5s 34ms/step - loss: 0.1865 - accuracy: 0.9513\n",
            "Epoch 14/100\n",
            "163/163 [==============================] - 5s 33ms/step - loss: 0.2097 - accuracy: 0.9463\n",
            "Epoch 15/100\n",
            "163/163 [==============================] - 5s 33ms/step - loss: 0.1631 - accuracy: 0.9569\n",
            "Epoch 16/100\n",
            "163/163 [==============================] - 5s 33ms/step - loss: 0.1636 - accuracy: 0.9593\n",
            "Epoch 17/100\n",
            "163/163 [==============================] - 5s 33ms/step - loss: 0.1345 - accuracy: 0.9630\n",
            "Epoch 18/100\n",
            "163/163 [==============================] - 5s 33ms/step - loss: 0.1360 - accuracy: 0.9640\n",
            "Epoch 19/100\n",
            "163/163 [==============================] - 5s 34ms/step - loss: 0.1320 - accuracy: 0.9659\n",
            "Epoch 20/100\n",
            "163/163 [==============================] - 6s 34ms/step - loss: 0.1515 - accuracy: 0.9580\n",
            "Epoch 21/100\n",
            "163/163 [==============================] - 6s 34ms/step - loss: 0.1937 - accuracy: 0.9484\n",
            "Epoch 22/100\n",
            "163/163 [==============================] - 5s 33ms/step - loss: 0.1666 - accuracy: 0.9572\n",
            "Epoch 23/100\n",
            "163/163 [==============================] - 5s 33ms/step - loss: 0.1762 - accuracy: 0.9547\n",
            "Epoch 24/100\n",
            "163/163 [==============================] - 6s 34ms/step - loss: 0.1615 - accuracy: 0.9607\n",
            "Epoch 25/100\n",
            "163/163 [==============================] - 5s 33ms/step - loss: 0.1574 - accuracy: 0.9601\n",
            "Epoch 26/100\n",
            "163/163 [==============================] - 5s 33ms/step - loss: 0.1677 - accuracy: 0.9593\n",
            "Epoch 27/100\n",
            "163/163 [==============================] - 5s 33ms/step - loss: 0.1725 - accuracy: 0.9551\n",
            "Epoch 28/100\n",
            "163/163 [==============================] - 5s 33ms/step - loss: 0.1474 - accuracy: 0.9601\n",
            "Epoch 29/100\n",
            "163/163 [==============================] - 5s 33ms/step - loss: 0.1404 - accuracy: 0.9620\n",
            "Epoch 30/100\n",
            "163/163 [==============================] - 5s 34ms/step - loss: 0.1328 - accuracy: 0.9643\n",
            "Epoch 31/100\n",
            "163/163 [==============================] - 5s 33ms/step - loss: 0.1396 - accuracy: 0.9603\n",
            "Epoch 32/100\n",
            "163/163 [==============================] - 6s 34ms/step - loss: 0.1711 - accuracy: 0.9534\n",
            "Epoch 33/100\n",
            "163/163 [==============================] - 5s 33ms/step - loss: 0.1717 - accuracy: 0.9546\n",
            "Epoch 34/100\n",
            "163/163 [==============================] - 6s 34ms/step - loss: 0.1629 - accuracy: 0.9521\n",
            "Epoch 35/100\n",
            "163/163 [==============================] - 6s 34ms/step - loss: 0.1325 - accuracy: 0.9668\n",
            "Epoch 36/100\n",
            "163/163 [==============================] - 5s 34ms/step - loss: 0.1751 - accuracy: 0.9549\n",
            "Epoch 37/100\n",
            "163/163 [==============================] - 5s 33ms/step - loss: 0.1442 - accuracy: 0.9605\n",
            "Epoch 38/100\n",
            "163/163 [==============================] - 5s 33ms/step - loss: 0.1371 - accuracy: 0.9647\n",
            "Epoch 39/100\n",
            "163/163 [==============================] - 5s 33ms/step - loss: 0.1503 - accuracy: 0.9582\n",
            "Epoch 40/100\n",
            "163/163 [==============================] - 5s 34ms/step - loss: 0.1341 - accuracy: 0.9657\n",
            "Epoch 41/100\n",
            "163/163 [==============================] - 5s 34ms/step - loss: 0.1911 - accuracy: 0.9480\n",
            "Epoch 42/100\n",
            "163/163 [==============================] - 5s 33ms/step - loss: 0.1402 - accuracy: 0.9649\n",
            "Epoch 43/100\n",
            "163/163 [==============================] - 5s 33ms/step - loss: 0.1207 - accuracy: 0.9666\n",
            "Epoch 44/100\n",
            "163/163 [==============================] - 6s 35ms/step - loss: 0.1221 - accuracy: 0.9657\n",
            "Epoch 45/100\n",
            "163/163 [==============================] - 5s 33ms/step - loss: 0.1599 - accuracy: 0.9615\n",
            "Epoch 46/100\n",
            "163/163 [==============================] - 6s 35ms/step - loss: 0.1505 - accuracy: 0.9618\n",
            "Epoch 47/100\n",
            "163/163 [==============================] - 5s 33ms/step - loss: 0.1536 - accuracy: 0.9576\n",
            "Epoch 48/100\n",
            "163/163 [==============================] - 5s 33ms/step - loss: 0.1386 - accuracy: 0.9649\n",
            "Epoch 49/100\n",
            "163/163 [==============================] - 6s 34ms/step - loss: 0.1591 - accuracy: 0.9570\n",
            "Epoch 50/100\n",
            "163/163 [==============================] - 6s 35ms/step - loss: 0.1485 - accuracy: 0.9593\n",
            "Epoch 51/100\n",
            "163/163 [==============================] - 6s 34ms/step - loss: 0.1369 - accuracy: 0.9638\n",
            "Epoch 52/100\n",
            "163/163 [==============================] - 5s 33ms/step - loss: 0.1260 - accuracy: 0.9680\n",
            "Epoch 53/100\n",
            "163/163 [==============================] - 5s 33ms/step - loss: 0.1261 - accuracy: 0.9670\n",
            "Epoch 54/100\n",
            "163/163 [==============================] - 5s 33ms/step - loss: 0.1213 - accuracy: 0.9678\n",
            "Epoch 55/100\n",
            "163/163 [==============================] - 6s 34ms/step - loss: 0.1393 - accuracy: 0.9666\n",
            "Epoch 56/100\n",
            "163/163 [==============================] - 6s 35ms/step - loss: 0.0935 - accuracy: 0.9745\n",
            "Epoch 57/100\n",
            "163/163 [==============================] - 6s 35ms/step - loss: 0.1064 - accuracy: 0.9726\n",
            "Epoch 58/100\n",
            "163/163 [==============================] - 5s 33ms/step - loss: 0.1004 - accuracy: 0.9724\n",
            "Epoch 59/100\n",
            "163/163 [==============================] - 5s 33ms/step - loss: 0.1253 - accuracy: 0.9653\n",
            "Epoch 60/100\n",
            "163/163 [==============================] - 5s 33ms/step - loss: 0.1010 - accuracy: 0.9720\n",
            "Epoch 61/100\n",
            "163/163 [==============================] - 5s 33ms/step - loss: 0.1629 - accuracy: 0.9557\n",
            "Epoch 62/100\n",
            "163/163 [==============================] - 5s 33ms/step - loss: 0.1377 - accuracy: 0.9643\n",
            "Epoch 63/100\n",
            "163/163 [==============================] - 6s 34ms/step - loss: 0.1195 - accuracy: 0.9680\n",
            "Epoch 64/100\n",
            "163/163 [==============================] - 6s 34ms/step - loss: 0.1169 - accuracy: 0.9670\n",
            "Epoch 65/100\n",
            "163/163 [==============================] - 5s 34ms/step - loss: 0.1688 - accuracy: 0.9576\n",
            "Epoch 66/100\n",
            "163/163 [==============================] - 5s 33ms/step - loss: 0.1507 - accuracy: 0.9616\n",
            "Epoch 67/100\n",
            "163/163 [==============================] - 5s 34ms/step - loss: 0.1437 - accuracy: 0.9659\n",
            "Epoch 68/100\n",
            "163/163 [==============================] - 5s 33ms/step - loss: 0.1217 - accuracy: 0.9657\n",
            "Epoch 69/100\n",
            "163/163 [==============================] - 5s 33ms/step - loss: 0.1376 - accuracy: 0.9607\n",
            "Epoch 70/100\n",
            "163/163 [==============================] - 5s 33ms/step - loss: 0.1172 - accuracy: 0.9687\n",
            "Epoch 71/100\n",
            "163/163 [==============================] - 5s 33ms/step - loss: 0.1256 - accuracy: 0.9668\n",
            "Epoch 72/100\n",
            "163/163 [==============================] - 5s 33ms/step - loss: 0.0979 - accuracy: 0.9735\n",
            "Epoch 73/100\n",
            "163/163 [==============================] - 5s 34ms/step - loss: 0.1130 - accuracy: 0.9716\n",
            "Epoch 74/100\n",
            "163/163 [==============================] - 6s 34ms/step - loss: 0.1497 - accuracy: 0.9603\n",
            "Epoch 75/100\n",
            "163/163 [==============================] - 6s 34ms/step - loss: 0.1459 - accuracy: 0.9601\n",
            "Epoch 76/100\n",
            "163/163 [==============================] - 6s 34ms/step - loss: 0.1371 - accuracy: 0.9651\n",
            "Epoch 77/100\n",
            "163/163 [==============================] - 5s 33ms/step - loss: 0.1533 - accuracy: 0.9595\n",
            "Epoch 78/100\n",
            "163/163 [==============================] - 6s 34ms/step - loss: 0.1713 - accuracy: 0.9557\n",
            "Epoch 79/100\n",
            "163/163 [==============================] - 6s 35ms/step - loss: 0.1870 - accuracy: 0.9511\n",
            "Epoch 80/100\n",
            "163/163 [==============================] - 6s 34ms/step - loss: 0.1150 - accuracy: 0.9728\n",
            "Epoch 81/100\n",
            "163/163 [==============================] - 5s 33ms/step - loss: 0.1038 - accuracy: 0.9753\n",
            "Epoch 82/100\n",
            "163/163 [==============================] - 5s 33ms/step - loss: 0.1145 - accuracy: 0.9695\n",
            "Epoch 83/100\n",
            "163/163 [==============================] - 5s 33ms/step - loss: 0.0976 - accuracy: 0.9756\n",
            "Epoch 84/100\n",
            "163/163 [==============================] - 5s 33ms/step - loss: 0.1169 - accuracy: 0.9712\n",
            "Epoch 85/100\n",
            "163/163 [==============================] - 5s 34ms/step - loss: 0.1020 - accuracy: 0.9710\n",
            "Epoch 86/100\n",
            "163/163 [==============================] - 6s 34ms/step - loss: 0.1212 - accuracy: 0.9680\n",
            "Epoch 87/100\n",
            "163/163 [==============================] - 6s 34ms/step - loss: 0.0867 - accuracy: 0.9791\n",
            "Epoch 88/100\n",
            "163/163 [==============================] - 6s 34ms/step - loss: 0.0875 - accuracy: 0.9768\n",
            "Epoch 89/100\n",
            "163/163 [==============================] - 6s 34ms/step - loss: 0.1358 - accuracy: 0.9668\n",
            "Epoch 90/100\n",
            "163/163 [==============================] - 6s 35ms/step - loss: 0.1480 - accuracy: 0.9630\n",
            "Epoch 91/100\n",
            "163/163 [==============================] - 6s 34ms/step - loss: 0.1367 - accuracy: 0.9668\n",
            "Epoch 92/100\n",
            "163/163 [==============================] - 5s 34ms/step - loss: 0.1145 - accuracy: 0.9722\n",
            "Epoch 93/100\n",
            "163/163 [==============================] - 6s 34ms/step - loss: 0.0727 - accuracy: 0.9837\n",
            "Epoch 94/100\n",
            "163/163 [==============================] - 6s 34ms/step - loss: 0.0807 - accuracy: 0.9802\n",
            "Epoch 95/100\n",
            "163/163 [==============================] - 6s 34ms/step - loss: 0.1155 - accuracy: 0.9703\n",
            "Epoch 96/100\n",
            "163/163 [==============================] - 5s 34ms/step - loss: 0.0991 - accuracy: 0.9755\n",
            "Epoch 97/100\n",
            "163/163 [==============================] - 5s 34ms/step - loss: 0.0876 - accuracy: 0.9778\n",
            "Epoch 98/100\n",
            "163/163 [==============================] - 6s 34ms/step - loss: 0.1025 - accuracy: 0.9737\n",
            "Epoch 99/100\n",
            "163/163 [==============================] - 6s 34ms/step - loss: 0.1243 - accuracy: 0.9687\n",
            "Epoch 100/100\n",
            "163/163 [==============================] - 6s 36ms/step - loss: 0.1203 - accuracy: 0.9701\n"
          ]
        },
        {
          "output_type": "execute_result",
          "data": {
            "text/plain": [
              "<keras.callbacks.History at 0x7f618a3fb4d0>"
            ]
          },
          "metadata": {},
          "execution_count": 184
        }
      ]
    },
    {
      "cell_type": "code",
      "source": [
        "# Predicting the Test set results\n",
        "y_pred = np.argmax(ann.predict(X_test), axis=-1)\n",
        "\n",
        "# Making the Confusion Matrix\n",
        "from sklearn.metrics import confusion_matrix\n",
        "cm_ann = confusion_matrix(y_test, y_pred)\n",
        "\n",
        "w = model_score(y_test,y_pred)\n",
        "accuracy.append(w[0]); precision.append(w[1]); recall.append(w[2]); f1_value.append(w[3])\n",
        "print(\"\\n\")\n",
        "print(\"Summary of ANN Algorithm \\n\")     \n",
        "print_summary(w[0],w[1],w[2],w[3])"
      ],
      "metadata": {
        "colab": {
          "base_uri": "https://localhost:8080/"
        },
        "id": "C4TqWACyGB0o",
        "outputId": "aa18636e-d41d-4834-d790-61b71539fe5f"
      },
      "execution_count": null,
      "outputs": [
        {
          "output_type": "stream",
          "name": "stdout",
          "text": [
            "\n",
            "\n",
            "Summary of ANN Algorithm \n",
            "\n",
            "Accuracy    = 0.7606263982102909\n",
            "Precision   = 0.7491801224244906\n",
            "Recall      = 0.7570062659047845\n",
            "F1 Score    = 0.7520351155029892\n",
            "\n",
            "\n"
          ]
        }
      ]
    },
    {
      "cell_type": "code",
      "source": [
        "#%%                           Import Library\n",
        "import numpy as np\n",
        "import matplotlib.pyplot as plt\n",
        "import pandas as pd\n",
        "import random\n",
        "from sklearn.utils import shuffle\n",
        "from sklearn import metrics\n",
        "from sklearn.metrics import cohen_kappa_score\n",
        "\n",
        "from collections import Counter\n",
        "from matplotlib import pyplot\n",
        "from sklearn.preprocessing import LabelEncoder\n",
        "from imblearn.over_sampling import SMOTE\n",
        "from sklearn.metrics import plot_confusion_matrix\n",
        "from sklearn.metrics import accuracy_score, precision_score, recall_score, f1_score\n",
        "import seaborn as sn"
      ],
      "metadata": {
        "id": "8bSTMqjcnB3k"
      },
      "execution_count": null,
      "outputs": []
    },
    {
      "cell_type": "code",
      "source": [
        "#%% Initialization\n",
        "y_predict = [] # for multilayer\n",
        "algorithms = [\"Logistic Regression\",\"K-nn\", \"SVM\", \"Naive Bayes\", \"Decission Tree\", \"Random Forest\",\"XgBoost\", \"AdaBoost\"]\n",
        "accuracy  = []\n",
        "precision = []\n",
        "recall    = []\n",
        "f1_value  = []"
      ],
      "metadata": {
        "id": "19MjooNHCPof"
      },
      "execution_count": null,
      "outputs": []
    },
    {
      "cell_type": "code",
      "source": [
        "#%%    User define function \n",
        "# print function \n",
        "def print_summary(ac,pr,re,f):\n",
        "    print(\"Accuracy    =\", ac)\n",
        "    print(\"Precision   =\", pr)\n",
        "    print(\"Recall      =\", re)\n",
        "    print(\"F1 Score    =\", f)\n",
        "    print(\"\\n\")"
      ],
      "metadata": {
        "id": "UAG3enC1CWTo"
      },
      "execution_count": null,
      "outputs": []
    },
    {
      "cell_type": "code",
      "source": [
        "# model score function \n",
        "def model_score (y_test,y_pred):\n",
        "    # Statistical Score\n",
        "    st = 'macro'  # 'micro',  'macro' , 'weighted' None\n",
        "    ac  = accuracy_score(y_test, y_pred)  # for multi class\n",
        "    pre = precision_score(y_test, y_pred, average = st) # use [accuracy_score(y_test, y_pred, average = st)]\n",
        "    re  = recall_score(y_test, y_pred, average = st)\n",
        "    f1  = f1_score(y_test, y_pred, average = st) \n",
        "    results = [ac,pre,re, f1]\n",
        "    return results"
      ],
      "metadata": {
        "id": "bsatpZpRCZ3n"
      },
      "execution_count": null,
      "outputs": []
    },
    {
      "cell_type": "code",
      "source": [
        "#%%                    Training the Naive Bayes model on the Training set\n",
        "\n",
        "\n",
        "from sklearn.naive_bayes import GaussianNB\n",
        "classifier_nb = GaussianNB()\n",
        "classifier_nb.fit(X_train, y_train)\n",
        "\n",
        "# Predicting the Test set results\n",
        "y_pred_nb = classifier_nb.predict(X_test)\n",
        "\n",
        "# Making the Confusion Matrix\n",
        "from sklearn.metrics import confusion_matrix\n",
        "cm_nb = confusion_matrix(y_test, y_pred_nb)\n",
        "\n",
        "w = model_score(y_test,y_pred_nb)\n",
        "\n",
        "accuracy.append(w[0]); precision.append(w[1]); recall.append(w[2]); f1_value.append(w[3])\n",
        "#y_predict.append(y_pred_nb) # for 2nd layer \n",
        "\n",
        "print(\"\\n\")\n",
        "print(\"Summary of Naive Bayes Algorithm \\n\")     \n",
        "print_summary(w[0],w[1],w[2],w[3])"
      ],
      "metadata": {
        "id": "a1JulmwZCf3_"
      },
      "execution_count": null,
      "outputs": []
    }
  ]
}